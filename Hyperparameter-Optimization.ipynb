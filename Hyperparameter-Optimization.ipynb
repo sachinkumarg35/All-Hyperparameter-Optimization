{
 "cells": [
  {
   "cell_type": "markdown",
   "metadata": {},
   "source": [
    "### All Techniques Of Hyper Parameter Optimization\n",
    "1. GridSearchCV\n",
    "2. RandomizedSearchCV\n",
    "3. Bayesian Optimization -Automate Hyperparameter Tuning (Hyperopt)\n",
    "4. Sequential Model Based Optimization(Tuning a scikit-learn estimator with skopt)\n",
    "5. Optuna- Automate Hyperparameter Tuning\n",
    "6. Genetic Algorithms (TPOT Classifier)"
   ]
  },
  {
   "cell_type": "code",
   "execution_count": 1,
   "metadata": {},
   "outputs": [],
   "source": [
    "import warnings\n",
    "warnings.filterwarnings('ignore')"
   ]
  },
  {
   "cell_type": "code",
   "execution_count": 2,
   "metadata": {},
   "outputs": [
    {
     "data": {
      "text/html": [
       "<div>\n",
       "<style scoped>\n",
       "    .dataframe tbody tr th:only-of-type {\n",
       "        vertical-align: middle;\n",
       "    }\n",
       "\n",
       "    .dataframe tbody tr th {\n",
       "        vertical-align: top;\n",
       "    }\n",
       "\n",
       "    .dataframe thead th {\n",
       "        text-align: right;\n",
       "    }\n",
       "</style>\n",
       "<table border=\"1\" class=\"dataframe\">\n",
       "  <thead>\n",
       "    <tr style=\"text-align: right;\">\n",
       "      <th></th>\n",
       "      <th>Pregnancies</th>\n",
       "      <th>Glucose</th>\n",
       "      <th>BloodPressure</th>\n",
       "      <th>SkinThickness</th>\n",
       "      <th>Insulin</th>\n",
       "      <th>BMI</th>\n",
       "      <th>DiabetesPedigreeFunction</th>\n",
       "      <th>Age</th>\n",
       "      <th>Outcome</th>\n",
       "    </tr>\n",
       "  </thead>\n",
       "  <tbody>\n",
       "    <tr>\n",
       "      <th>0</th>\n",
       "      <td>6</td>\n",
       "      <td>148</td>\n",
       "      <td>72</td>\n",
       "      <td>35</td>\n",
       "      <td>0</td>\n",
       "      <td>33.6</td>\n",
       "      <td>0.627</td>\n",
       "      <td>50</td>\n",
       "      <td>1</td>\n",
       "    </tr>\n",
       "    <tr>\n",
       "      <th>1</th>\n",
       "      <td>1</td>\n",
       "      <td>85</td>\n",
       "      <td>66</td>\n",
       "      <td>29</td>\n",
       "      <td>0</td>\n",
       "      <td>26.6</td>\n",
       "      <td>0.351</td>\n",
       "      <td>31</td>\n",
       "      <td>0</td>\n",
       "    </tr>\n",
       "    <tr>\n",
       "      <th>2</th>\n",
       "      <td>8</td>\n",
       "      <td>183</td>\n",
       "      <td>64</td>\n",
       "      <td>0</td>\n",
       "      <td>0</td>\n",
       "      <td>23.3</td>\n",
       "      <td>0.672</td>\n",
       "      <td>32</td>\n",
       "      <td>1</td>\n",
       "    </tr>\n",
       "    <tr>\n",
       "      <th>3</th>\n",
       "      <td>1</td>\n",
       "      <td>89</td>\n",
       "      <td>66</td>\n",
       "      <td>23</td>\n",
       "      <td>94</td>\n",
       "      <td>28.1</td>\n",
       "      <td>0.167</td>\n",
       "      <td>21</td>\n",
       "      <td>0</td>\n",
       "    </tr>\n",
       "    <tr>\n",
       "      <th>4</th>\n",
       "      <td>0</td>\n",
       "      <td>137</td>\n",
       "      <td>40</td>\n",
       "      <td>35</td>\n",
       "      <td>168</td>\n",
       "      <td>43.1</td>\n",
       "      <td>2.288</td>\n",
       "      <td>33</td>\n",
       "      <td>1</td>\n",
       "    </tr>\n",
       "  </tbody>\n",
       "</table>\n",
       "</div>"
      ],
      "text/plain": [
       "   Pregnancies  Glucose  BloodPressure  SkinThickness  Insulin   BMI  \\\n",
       "0            6      148             72             35        0  33.6   \n",
       "1            1       85             66             29        0  26.6   \n",
       "2            8      183             64              0        0  23.3   \n",
       "3            1       89             66             23       94  28.1   \n",
       "4            0      137             40             35      168  43.1   \n",
       "\n",
       "   DiabetesPedigreeFunction  Age  Outcome  \n",
       "0                     0.627   50        1  \n",
       "1                     0.351   31        0  \n",
       "2                     0.672   32        1  \n",
       "3                     0.167   21        0  \n",
       "4                     2.288   33        1  "
      ]
     },
     "execution_count": 2,
     "metadata": {},
     "output_type": "execute_result"
    }
   ],
   "source": [
    "import pandas as pd\n",
    "df = pd.read_csv(\"Diabetes.csv\")\n",
    "df.head()"
   ]
  },
  {
   "cell_type": "code",
   "execution_count": 9,
   "metadata": {},
   "outputs": [
    {
     "data": {
      "text/html": [
       "<div>\n",
       "<style scoped>\n",
       "    .dataframe tbody tr th:only-of-type {\n",
       "        vertical-align: middle;\n",
       "    }\n",
       "\n",
       "    .dataframe tbody tr th {\n",
       "        vertical-align: top;\n",
       "    }\n",
       "\n",
       "    .dataframe thead th {\n",
       "        text-align: right;\n",
       "    }\n",
       "</style>\n",
       "<table border=\"1\" class=\"dataframe\">\n",
       "  <thead>\n",
       "    <tr style=\"text-align: right;\">\n",
       "      <th></th>\n",
       "      <th>Pregnancies</th>\n",
       "      <th>Glucose</th>\n",
       "      <th>BloodPressure</th>\n",
       "      <th>SkinThickness</th>\n",
       "      <th>Insulin</th>\n",
       "      <th>BMI</th>\n",
       "      <th>DiabetesPedigreeFunction</th>\n",
       "      <th>Age</th>\n",
       "      <th>Outcome</th>\n",
       "    </tr>\n",
       "  </thead>\n",
       "  <tbody>\n",
       "    <tr>\n",
       "      <th>0</th>\n",
       "      <td>6</td>\n",
       "      <td>148.0</td>\n",
       "      <td>72</td>\n",
       "      <td>35.0</td>\n",
       "      <td>30.5</td>\n",
       "      <td>33.6</td>\n",
       "      <td>0.627</td>\n",
       "      <td>50</td>\n",
       "      <td>1</td>\n",
       "    </tr>\n",
       "    <tr>\n",
       "      <th>1</th>\n",
       "      <td>1</td>\n",
       "      <td>85.0</td>\n",
       "      <td>66</td>\n",
       "      <td>29.0</td>\n",
       "      <td>30.5</td>\n",
       "      <td>26.6</td>\n",
       "      <td>0.351</td>\n",
       "      <td>31</td>\n",
       "      <td>0</td>\n",
       "    </tr>\n",
       "    <tr>\n",
       "      <th>2</th>\n",
       "      <td>8</td>\n",
       "      <td>183.0</td>\n",
       "      <td>64</td>\n",
       "      <td>23.0</td>\n",
       "      <td>30.5</td>\n",
       "      <td>23.3</td>\n",
       "      <td>0.672</td>\n",
       "      <td>32</td>\n",
       "      <td>1</td>\n",
       "    </tr>\n",
       "    <tr>\n",
       "      <th>3</th>\n",
       "      <td>1</td>\n",
       "      <td>89.0</td>\n",
       "      <td>66</td>\n",
       "      <td>23.0</td>\n",
       "      <td>94.0</td>\n",
       "      <td>28.1</td>\n",
       "      <td>0.167</td>\n",
       "      <td>21</td>\n",
       "      <td>0</td>\n",
       "    </tr>\n",
       "    <tr>\n",
       "      <th>4</th>\n",
       "      <td>0</td>\n",
       "      <td>137.0</td>\n",
       "      <td>40</td>\n",
       "      <td>35.0</td>\n",
       "      <td>168.0</td>\n",
       "      <td>43.1</td>\n",
       "      <td>2.288</td>\n",
       "      <td>33</td>\n",
       "      <td>1</td>\n",
       "    </tr>\n",
       "  </tbody>\n",
       "</table>\n",
       "</div>"
      ],
      "text/plain": [
       "   Pregnancies  Glucose  BloodPressure  SkinThickness  Insulin   BMI  \\\n",
       "0            6    148.0             72           35.0     30.5  33.6   \n",
       "1            1     85.0             66           29.0     30.5  26.6   \n",
       "2            8    183.0             64           23.0     30.5  23.3   \n",
       "3            1     89.0             66           23.0     94.0  28.1   \n",
       "4            0    137.0             40           35.0    168.0  43.1   \n",
       "\n",
       "   DiabetesPedigreeFunction  Age  Outcome  \n",
       "0                     0.627   50        1  \n",
       "1                     0.351   31        0  \n",
       "2                     0.672   32        1  \n",
       "3                     0.167   21        0  \n",
       "4                     2.288   33        1  "
      ]
     },
     "execution_count": 9,
     "metadata": {},
     "output_type": "execute_result"
    }
   ],
   "source": [
    "import numpy as np\n",
    "df['Glucose'] = np.where(df['Glucose'] == 0, df['Glucose'].median(), df['Glucose'])\n",
    "df['Insulin'] = np.where(df['Insulin'] == 0, df['Insulin'].median(), df['Insulin'])\n",
    "df['SkinThickness'] = np.where(df['SkinThickness'] == 0, df['SkinThickness'].median(), df['SkinThickness'])\n",
    "df.head()"
   ]
  },
  {
   "cell_type": "code",
   "execution_count": 11,
   "metadata": {},
   "outputs": [],
   "source": [
    "#Independent and dependent features\n",
    "X = df.drop('Outcome', axis = 1)\n",
    "y = df['Outcome']"
   ]
  },
  {
   "cell_type": "code",
   "execution_count": 13,
   "metadata": {},
   "outputs": [
    {
     "data": {
      "text/html": [
       "<div>\n",
       "<style scoped>\n",
       "    .dataframe tbody tr th:only-of-type {\n",
       "        vertical-align: middle;\n",
       "    }\n",
       "\n",
       "    .dataframe tbody tr th {\n",
       "        vertical-align: top;\n",
       "    }\n",
       "\n",
       "    .dataframe thead th {\n",
       "        text-align: right;\n",
       "    }\n",
       "</style>\n",
       "<table border=\"1\" class=\"dataframe\">\n",
       "  <thead>\n",
       "    <tr style=\"text-align: right;\">\n",
       "      <th></th>\n",
       "      <th>Pregnancies</th>\n",
       "      <th>Glucose</th>\n",
       "      <th>BloodPressure</th>\n",
       "      <th>SkinThickness</th>\n",
       "      <th>Insulin</th>\n",
       "      <th>BMI</th>\n",
       "      <th>DiabetesPedigreeFunction</th>\n",
       "      <th>Age</th>\n",
       "      <th>Outcome</th>\n",
       "    </tr>\n",
       "  </thead>\n",
       "  <tbody>\n",
       "    <tr>\n",
       "      <th>0</th>\n",
       "      <td>6</td>\n",
       "      <td>148.0</td>\n",
       "      <td>72</td>\n",
       "      <td>35.0</td>\n",
       "      <td>30.5</td>\n",
       "      <td>33.6</td>\n",
       "      <td>0.627</td>\n",
       "      <td>50</td>\n",
       "      <td>1</td>\n",
       "    </tr>\n",
       "    <tr>\n",
       "      <th>1</th>\n",
       "      <td>1</td>\n",
       "      <td>85.0</td>\n",
       "      <td>66</td>\n",
       "      <td>29.0</td>\n",
       "      <td>30.5</td>\n",
       "      <td>26.6</td>\n",
       "      <td>0.351</td>\n",
       "      <td>31</td>\n",
       "      <td>0</td>\n",
       "    </tr>\n",
       "    <tr>\n",
       "      <th>2</th>\n",
       "      <td>8</td>\n",
       "      <td>183.0</td>\n",
       "      <td>64</td>\n",
       "      <td>23.0</td>\n",
       "      <td>30.5</td>\n",
       "      <td>23.3</td>\n",
       "      <td>0.672</td>\n",
       "      <td>32</td>\n",
       "      <td>1</td>\n",
       "    </tr>\n",
       "    <tr>\n",
       "      <th>3</th>\n",
       "      <td>1</td>\n",
       "      <td>89.0</td>\n",
       "      <td>66</td>\n",
       "      <td>23.0</td>\n",
       "      <td>94.0</td>\n",
       "      <td>28.1</td>\n",
       "      <td>0.167</td>\n",
       "      <td>21</td>\n",
       "      <td>0</td>\n",
       "    </tr>\n",
       "    <tr>\n",
       "      <th>4</th>\n",
       "      <td>0</td>\n",
       "      <td>137.0</td>\n",
       "      <td>40</td>\n",
       "      <td>35.0</td>\n",
       "      <td>168.0</td>\n",
       "      <td>43.1</td>\n",
       "      <td>2.288</td>\n",
       "      <td>33</td>\n",
       "      <td>1</td>\n",
       "    </tr>\n",
       "  </tbody>\n",
       "</table>\n",
       "</div>"
      ],
      "text/plain": [
       "   Pregnancies  Glucose  BloodPressure  SkinThickness  Insulin   BMI  \\\n",
       "0            6    148.0             72           35.0     30.5  33.6   \n",
       "1            1     85.0             66           29.0     30.5  26.6   \n",
       "2            8    183.0             64           23.0     30.5  23.3   \n",
       "3            1     89.0             66           23.0     94.0  28.1   \n",
       "4            0    137.0             40           35.0    168.0  43.1   \n",
       "\n",
       "   DiabetesPedigreeFunction  Age  Outcome  \n",
       "0                     0.627   50        1  \n",
       "1                     0.351   31        0  \n",
       "2                     0.672   32        1  \n",
       "3                     0.167   21        0  \n",
       "4                     2.288   33        1  "
      ]
     },
     "execution_count": 13,
     "metadata": {},
     "output_type": "execute_result"
    }
   ],
   "source": [
    "pd.DataFrame(X, columns = df.columns[:-1])\n",
    "df.head()"
   ]
  },
  {
   "cell_type": "code",
   "execution_count": 14,
   "metadata": {},
   "outputs": [],
   "source": [
    "#Train and Test \n",
    "from sklearn.model_selection import train_test_split\n",
    "X_train, X_test, y_train, y_test = train_test_split(X, y, test_size = 0.20, random_state = 0)"
   ]
  },
  {
   "cell_type": "code",
   "execution_count": 16,
   "metadata": {},
   "outputs": [],
   "source": [
    "from sklearn.ensemble import RandomForestClassifier\n",
    "rf_classifier = RandomForestClassifier(n_estimators = 10).fit(X_train, y_train)\n",
    "prediction = rf_classifier.predict(X_test)"
   ]
  },
  {
   "cell_type": "code",
   "execution_count": 17,
   "metadata": {},
   "outputs": [
    {
     "data": {
      "text/plain": [
       "0    500\n",
       "1    268\n",
       "Name: Outcome, dtype: int64"
      ]
     },
     "execution_count": 17,
     "metadata": {},
     "output_type": "execute_result"
    }
   ],
   "source": [
    "y.value_counts()"
   ]
  },
  {
   "cell_type": "code",
   "execution_count": 18,
   "metadata": {},
   "outputs": [
    {
     "name": "stdout",
     "output_type": "stream",
     "text": [
      "[[92 15]\n",
      " [16 31]]\n",
      "0.7987012987012987\n",
      "              precision    recall  f1-score   support\n",
      "\n",
      "           0       0.85      0.86      0.86       107\n",
      "           1       0.67      0.66      0.67        47\n",
      "\n",
      "    accuracy                           0.80       154\n",
      "   macro avg       0.76      0.76      0.76       154\n",
      "weighted avg       0.80      0.80      0.80       154\n",
      "\n"
     ]
    }
   ],
   "source": [
    "from sklearn.metrics import accuracy_score, confusion_matrix, classification_report\n",
    "print(confusion_matrix(y_test, prediction))\n",
    "print(accuracy_score(y_test, prediction))\n",
    "print(classification_report(y_test, prediction))"
   ]
  },
  {
   "cell_type": "markdown",
   "metadata": {},
   "source": [
    "### The main parameters used by a Random Forest Classifier are:\n",
    "\n",
    "1. criterion = the function used to evaluate the quality of a split.\n",
    "\n",
    "2. max_depth = maximum number of levels allowed in each tree.\n",
    "\n",
    "3. max_features = maximum number of features considered when splitting a node.\n",
    "\n",
    "4. min_samples_leaf = minimum number of samples which can be stored in a tree leaf.\n",
    "\n",
    "5. min_samples_split = minimum number of samples necessary in a node to cause node splitting.\n",
    "\n",
    "6. n_estimators = number of trees in the ensamble."
   ]
  },
  {
   "cell_type": "code",
   "execution_count": 21,
   "metadata": {},
   "outputs": [
    {
     "name": "stdout",
     "output_type": "stream",
     "text": [
      "[[97 10]\n",
      " [17 30]]\n",
      "0.8246753246753247\n",
      "              precision    recall  f1-score   support\n",
      "\n",
      "           0       0.85      0.91      0.88       107\n",
      "           1       0.75      0.64      0.69        47\n",
      "\n",
      "    accuracy                           0.82       154\n",
      "   macro avg       0.80      0.77      0.78       154\n",
      "weighted avg       0.82      0.82      0.82       154\n",
      "\n"
     ]
    }
   ],
   "source": [
    "#Manual Hyperparameter Tuning\n",
    "model = RandomForestClassifier(n_estimators = 300, criterion = 'entropy',\n",
    "                              max_features = 'sqrt', min_samples_leaf = 10, random_state = 100).fit(X_train, y_train)\n",
    "predictions = model.predict(X_test)\n",
    "print(confusion_matrix(y_test, predictions))\n",
    "print(accuracy_score(y_test, predictions))\n",
    "print(classification_report(y_test, predictions))"
   ]
  },
  {
   "cell_type": "markdown",
   "metadata": {},
   "source": [
    "##### Randomized Search cv"
   ]
  },
  {
   "cell_type": "code",
   "execution_count": null,
   "metadata": {},
   "outputs": [],
   "source": [
    "import numpy as np\n",
    "from sklearn.model_selection import RandomizedSearchCV\n",
    "# Number of trees in random forest\n",
    "n_estimators = [int(x) for x in np.linspace(start = 200, stop = 2000, num = 10)]\n",
    "# Number of features to consider at every split\n",
    "max_features = ['auto', 'sqrt','log2']\n",
    "# Maximum number of levels in tree\n",
    "max_depth = [int(x) for x in np.linspace(10, 1000,10)]\n",
    "# Minimum number of samples required to split a node\n",
    "min_samples_split = [2, 5, 10,14]\n",
    "# Minimum number of samples required at each leaf node\n",
    "min_samples_leaf = [1, 2, 4,6,8]\n",
    "# Create the random grid\n",
    "random_grid = {'n_estimators': n_estimators,\n",
    "               'max_features': max_features,\n",
    "               'max_depth': max_depth,\n",
    "               'min_samples_split': min_samples_split,\n",
    "               'min_samples_leaf': min_samples_leaf,\n",
    "              'criterion':['entropy','gini']}\n",
    "print(random_grid)"
   ]
  },
  {
   "cell_type": "code",
   "execution_count": 22,
   "metadata": {},
   "outputs": [
    {
     "name": "stdout",
     "output_type": "stream",
     "text": [
      "{'n_estimators': [200, 400, 600, 800, 1000, 1200, 1400, 1600, 1800, 2000], 'max_features': ['auto', 'sqrt', 'log2'], 'max_depth': [10, 120, 230, 340, 450, 560, 670, 780, 890, 1000], 'min_samples_split': [2, 5, 10, 4], 'min_samples_leaf': [1, 2, 4, 6, 8], 'criterion': ['entropy', 'gini']}\n"
     ]
    }
   ],
   "source": [
    "import numpy as np\n",
    "from sklearn.model_selection import RandomizedSearchCV\n",
    "\n",
    "#number of trees in random forest\n",
    "n_estimators = [int(x) for x in np.linspace(start = 200, stop = 2000, num = 10)]\n",
    "\n",
    "#number of features to consider at every split\n",
    "max_features = ['auto', 'sqrt', 'log2']\n",
    "\n",
    "#maximum number of levels in tree\n",
    "max_depth = [int(x) for x in np.linspace(10, 1000, 10)]\n",
    "\n",
    "#minimum number of samples required to split a node\n",
    "min_samples_split = [2, 5, 10, 4]\n",
    "\n",
    "#minimum number of samples required at each leaf node\n",
    "min_samples_leaf = [1, 2, 4, 6, 8]\n",
    "\n",
    "#create random grid\n",
    "random_grid = {'n_estimators': n_estimators,\n",
    "              'max_features': max_features,\n",
    "              'max_depth': max_depth,\n",
    "              'min_samples_split': min_samples_split,\n",
    "              'min_samples_leaf': min_samples_leaf,\n",
    "              'criterion': ['entropy', 'gini']}\n",
    "print(random_grid)"
   ]
  },
  {
   "cell_type": "code",
   "execution_count": 24,
   "metadata": {},
   "outputs": [
    {
     "name": "stdout",
     "output_type": "stream",
     "text": [
      "Fitting 3 folds for each of 100 candidates, totalling 300 fits\n",
      "[CV] END criterion=entropy, max_depth=1000, max_features=sqrt, min_samples_leaf=2, min_samples_split=2, n_estimators=200; total time=   0.8s\n",
      "[CV] END criterion=entropy, max_depth=1000, max_features=sqrt, min_samples_leaf=2, min_samples_split=2, n_estimators=200; total time=   0.8s\n",
      "[CV] END criterion=entropy, max_depth=1000, max_features=sqrt, min_samples_leaf=2, min_samples_split=2, n_estimators=200; total time=   0.8s\n",
      "[CV] END criterion=gini, max_depth=120, max_features=sqrt, min_samples_leaf=6, min_samples_split=5, n_estimators=1400; total time=   5.8s\n",
      "[CV] END criterion=gini, max_depth=120, max_features=sqrt, min_samples_leaf=6, min_samples_split=5, n_estimators=1400; total time=   5.7s\n",
      "[CV] END criterion=gini, max_depth=120, max_features=sqrt, min_samples_leaf=6, min_samples_split=5, n_estimators=1400; total time=   5.4s\n",
      "[CV] END criterion=gini, max_depth=340, max_features=sqrt, min_samples_leaf=1, min_samples_split=4, n_estimators=2000; total time=   8.1s\n",
      "[CV] END criterion=gini, max_depth=340, max_features=sqrt, min_samples_leaf=1, min_samples_split=4, n_estimators=2000; total time=   8.1s\n",
      "[CV] END criterion=gini, max_depth=340, max_features=sqrt, min_samples_leaf=1, min_samples_split=4, n_estimators=2000; total time=   8.0s\n",
      "[CV] END criterion=entropy, max_depth=10, max_features=auto, min_samples_leaf=2, min_samples_split=4, n_estimators=2000; total time=   8.6s\n",
      "[CV] END criterion=entropy, max_depth=10, max_features=auto, min_samples_leaf=2, min_samples_split=4, n_estimators=2000; total time=   8.5s\n",
      "[CV] END criterion=entropy, max_depth=10, max_features=auto, min_samples_leaf=2, min_samples_split=4, n_estimators=2000; total time=   8.6s\n",
      "[CV] END criterion=entropy, max_depth=10, max_features=sqrt, min_samples_leaf=6, min_samples_split=4, n_estimators=200; total time=   0.8s\n",
      "[CV] END criterion=entropy, max_depth=10, max_features=sqrt, min_samples_leaf=6, min_samples_split=4, n_estimators=200; total time=   0.9s\n",
      "[CV] END criterion=entropy, max_depth=10, max_features=sqrt, min_samples_leaf=6, min_samples_split=4, n_estimators=200; total time=   0.8s\n",
      "[CV] END criterion=gini, max_depth=670, max_features=log2, min_samples_leaf=4, min_samples_split=2, n_estimators=600; total time=   2.4s\n",
      "[CV] END criterion=gini, max_depth=670, max_features=log2, min_samples_leaf=4, min_samples_split=2, n_estimators=600; total time=   2.5s\n",
      "[CV] END criterion=gini, max_depth=670, max_features=log2, min_samples_leaf=4, min_samples_split=2, n_estimators=600; total time=   2.4s\n",
      "[CV] END criterion=entropy, max_depth=670, max_features=log2, min_samples_leaf=6, min_samples_split=10, n_estimators=2000; total time=   8.6s\n",
      "[CV] END criterion=entropy, max_depth=670, max_features=log2, min_samples_leaf=6, min_samples_split=10, n_estimators=2000; total time=   8.8s\n",
      "[CV] END criterion=entropy, max_depth=670, max_features=log2, min_samples_leaf=6, min_samples_split=10, n_estimators=2000; total time=   8.8s\n",
      "[CV] END criterion=gini, max_depth=340, max_features=auto, min_samples_leaf=4, min_samples_split=10, n_estimators=1400; total time=   5.5s\n",
      "[CV] END criterion=gini, max_depth=340, max_features=auto, min_samples_leaf=4, min_samples_split=10, n_estimators=1400; total time=   5.4s\n",
      "[CV] END criterion=gini, max_depth=340, max_features=auto, min_samples_leaf=4, min_samples_split=10, n_estimators=1400; total time=   5.6s\n",
      "[CV] END criterion=entropy, max_depth=1000, max_features=sqrt, min_samples_leaf=2, min_samples_split=2, n_estimators=1400; total time=   6.5s\n",
      "[CV] END criterion=entropy, max_depth=1000, max_features=sqrt, min_samples_leaf=2, min_samples_split=2, n_estimators=1400; total time=   6.4s\n",
      "[CV] END criterion=entropy, max_depth=1000, max_features=sqrt, min_samples_leaf=2, min_samples_split=2, n_estimators=1400; total time=   6.2s\n",
      "[CV] END criterion=entropy, max_depth=120, max_features=sqrt, min_samples_leaf=1, min_samples_split=2, n_estimators=600; total time=   2.7s\n",
      "[CV] END criterion=entropy, max_depth=120, max_features=sqrt, min_samples_leaf=1, min_samples_split=2, n_estimators=600; total time=   2.8s\n",
      "[CV] END criterion=entropy, max_depth=120, max_features=sqrt, min_samples_leaf=1, min_samples_split=2, n_estimators=600; total time=   2.7s\n",
      "[CV] END criterion=gini, max_depth=890, max_features=auto, min_samples_leaf=8, min_samples_split=4, n_estimators=600; total time=   2.3s\n",
      "[CV] END criterion=gini, max_depth=890, max_features=auto, min_samples_leaf=8, min_samples_split=4, n_estimators=600; total time=   2.3s\n",
      "[CV] END criterion=gini, max_depth=890, max_features=auto, min_samples_leaf=8, min_samples_split=4, n_estimators=600; total time=   2.3s\n",
      "[CV] END criterion=entropy, max_depth=780, max_features=auto, min_samples_leaf=8, min_samples_split=5, n_estimators=1400; total time=   5.6s\n",
      "[CV] END criterion=entropy, max_depth=780, max_features=auto, min_samples_leaf=8, min_samples_split=5, n_estimators=1400; total time=   5.5s\n",
      "[CV] END criterion=entropy, max_depth=780, max_features=auto, min_samples_leaf=8, min_samples_split=5, n_estimators=1400; total time=   5.5s\n",
      "[CV] END criterion=gini, max_depth=670, max_features=sqrt, min_samples_leaf=2, min_samples_split=4, n_estimators=400; total time=   1.5s\n",
      "[CV] END criterion=gini, max_depth=670, max_features=sqrt, min_samples_leaf=2, min_samples_split=4, n_estimators=400; total time=   1.9s\n",
      "[CV] END criterion=gini, max_depth=670, max_features=sqrt, min_samples_leaf=2, min_samples_split=4, n_estimators=400; total time=   1.6s\n",
      "[CV] END criterion=gini, max_depth=1000, max_features=auto, min_samples_leaf=4, min_samples_split=5, n_estimators=600; total time=   2.3s\n",
      "[CV] END criterion=gini, max_depth=1000, max_features=auto, min_samples_leaf=4, min_samples_split=5, n_estimators=600; total time=   2.3s\n",
      "[CV] END criterion=gini, max_depth=1000, max_features=auto, min_samples_leaf=4, min_samples_split=5, n_estimators=600; total time=   2.3s\n",
      "[CV] END criterion=gini, max_depth=670, max_features=log2, min_samples_leaf=4, min_samples_split=5, n_estimators=400; total time=   1.6s\n",
      "[CV] END criterion=gini, max_depth=670, max_features=log2, min_samples_leaf=4, min_samples_split=5, n_estimators=400; total time=   1.6s\n",
      "[CV] END criterion=gini, max_depth=670, max_features=log2, min_samples_leaf=4, min_samples_split=5, n_estimators=400; total time=   1.6s\n",
      "[CV] END criterion=entropy, max_depth=230, max_features=auto, min_samples_leaf=6, min_samples_split=10, n_estimators=200; total time=   0.7s\n",
      "[CV] END criterion=entropy, max_depth=230, max_features=auto, min_samples_leaf=6, min_samples_split=10, n_estimators=200; total time=   0.8s\n",
      "[CV] END criterion=entropy, max_depth=230, max_features=auto, min_samples_leaf=6, min_samples_split=10, n_estimators=200; total time=   0.7s\n",
      "[CV] END criterion=gini, max_depth=230, max_features=log2, min_samples_leaf=6, min_samples_split=5, n_estimators=1800; total time=   7.5s\n",
      "[CV] END criterion=gini, max_depth=230, max_features=log2, min_samples_leaf=6, min_samples_split=5, n_estimators=1800; total time=   7.4s\n",
      "[CV] END criterion=gini, max_depth=230, max_features=log2, min_samples_leaf=6, min_samples_split=5, n_estimators=1800; total time=   7.4s\n",
      "[CV] END criterion=gini, max_depth=890, max_features=sqrt, min_samples_leaf=6, min_samples_split=4, n_estimators=600; total time=   2.2s\n",
      "[CV] END criterion=gini, max_depth=890, max_features=sqrt, min_samples_leaf=6, min_samples_split=4, n_estimators=600; total time=   2.2s\n",
      "[CV] END criterion=gini, max_depth=890, max_features=sqrt, min_samples_leaf=6, min_samples_split=4, n_estimators=600; total time=   2.2s\n",
      "[CV] END criterion=gini, max_depth=670, max_features=auto, min_samples_leaf=6, min_samples_split=2, n_estimators=800; total time=   3.0s\n",
      "[CV] END criterion=gini, max_depth=670, max_features=auto, min_samples_leaf=6, min_samples_split=2, n_estimators=800; total time=   3.0s\n",
      "[CV] END criterion=gini, max_depth=670, max_features=auto, min_samples_leaf=6, min_samples_split=2, n_estimators=800; total time=   3.0s\n",
      "[CV] END criterion=entropy, max_depth=1000, max_features=sqrt, min_samples_leaf=8, min_samples_split=2, n_estimators=2000; total time=   7.9s\n",
      "[CV] END criterion=entropy, max_depth=1000, max_features=sqrt, min_samples_leaf=8, min_samples_split=2, n_estimators=2000; total time=   7.9s\n"
     ]
    },
    {
     "name": "stdout",
     "output_type": "stream",
     "text": [
      "[CV] END criterion=entropy, max_depth=1000, max_features=sqrt, min_samples_leaf=8, min_samples_split=2, n_estimators=2000; total time=   7.9s\n",
      "[CV] END criterion=gini, max_depth=10, max_features=sqrt, min_samples_leaf=1, min_samples_split=4, n_estimators=200; total time=   0.7s\n",
      "[CV] END criterion=gini, max_depth=10, max_features=sqrt, min_samples_leaf=1, min_samples_split=4, n_estimators=200; total time=   0.7s\n",
      "[CV] END criterion=gini, max_depth=10, max_features=sqrt, min_samples_leaf=1, min_samples_split=4, n_estimators=200; total time=   0.7s\n",
      "[CV] END criterion=entropy, max_depth=450, max_features=auto, min_samples_leaf=1, min_samples_split=4, n_estimators=1000; total time=   4.4s\n",
      "[CV] END criterion=entropy, max_depth=450, max_features=auto, min_samples_leaf=1, min_samples_split=4, n_estimators=1000; total time=   4.2s\n",
      "[CV] END criterion=entropy, max_depth=450, max_features=auto, min_samples_leaf=1, min_samples_split=4, n_estimators=1000; total time=   4.2s\n",
      "[CV] END criterion=entropy, max_depth=1000, max_features=sqrt, min_samples_leaf=8, min_samples_split=10, n_estimators=1600; total time=   6.5s\n",
      "[CV] END criterion=entropy, max_depth=1000, max_features=sqrt, min_samples_leaf=8, min_samples_split=10, n_estimators=1600; total time=   6.2s\n",
      "[CV] END criterion=entropy, max_depth=1000, max_features=sqrt, min_samples_leaf=8, min_samples_split=10, n_estimators=1600; total time=   6.5s\n",
      "[CV] END criterion=entropy, max_depth=340, max_features=auto, min_samples_leaf=4, min_samples_split=10, n_estimators=200; total time=   0.7s\n",
      "[CV] END criterion=entropy, max_depth=340, max_features=auto, min_samples_leaf=4, min_samples_split=10, n_estimators=200; total time=   0.7s\n",
      "[CV] END criterion=entropy, max_depth=340, max_features=auto, min_samples_leaf=4, min_samples_split=10, n_estimators=200; total time=   0.7s\n",
      "[CV] END criterion=gini, max_depth=780, max_features=log2, min_samples_leaf=2, min_samples_split=5, n_estimators=1200; total time=   5.1s\n",
      "[CV] END criterion=gini, max_depth=780, max_features=log2, min_samples_leaf=2, min_samples_split=5, n_estimators=1200; total time=   5.6s\n",
      "[CV] END criterion=gini, max_depth=780, max_features=log2, min_samples_leaf=2, min_samples_split=5, n_estimators=1200; total time=   5.1s\n",
      "[CV] END criterion=entropy, max_depth=890, max_features=auto, min_samples_leaf=8, min_samples_split=4, n_estimators=800; total time=   3.0s\n",
      "[CV] END criterion=entropy, max_depth=890, max_features=auto, min_samples_leaf=8, min_samples_split=4, n_estimators=800; total time=   3.1s\n",
      "[CV] END criterion=entropy, max_depth=890, max_features=auto, min_samples_leaf=8, min_samples_split=4, n_estimators=800; total time=   3.1s\n",
      "[CV] END criterion=entropy, max_depth=560, max_features=sqrt, min_samples_leaf=1, min_samples_split=5, n_estimators=800; total time=   3.5s\n",
      "[CV] END criterion=entropy, max_depth=560, max_features=sqrt, min_samples_leaf=1, min_samples_split=5, n_estimators=800; total time=   3.5s\n",
      "[CV] END criterion=entropy, max_depth=560, max_features=sqrt, min_samples_leaf=1, min_samples_split=5, n_estimators=800; total time=   3.4s\n",
      "[CV] END criterion=gini, max_depth=120, max_features=sqrt, min_samples_leaf=4, min_samples_split=10, n_estimators=400; total time=   1.6s\n",
      "[CV] END criterion=gini, max_depth=120, max_features=sqrt, min_samples_leaf=4, min_samples_split=10, n_estimators=400; total time=   1.5s\n",
      "[CV] END criterion=gini, max_depth=120, max_features=sqrt, min_samples_leaf=4, min_samples_split=10, n_estimators=400; total time=   1.7s\n",
      "[CV] END criterion=entropy, max_depth=1000, max_features=log2, min_samples_leaf=2, min_samples_split=2, n_estimators=800; total time=   4.2s\n",
      "[CV] END criterion=entropy, max_depth=1000, max_features=log2, min_samples_leaf=2, min_samples_split=2, n_estimators=800; total time=   4.1s\n",
      "[CV] END criterion=entropy, max_depth=1000, max_features=log2, min_samples_leaf=2, min_samples_split=2, n_estimators=800; total time=   4.3s\n",
      "[CV] END criterion=gini, max_depth=560, max_features=sqrt, min_samples_leaf=1, min_samples_split=10, n_estimators=200; total time=   0.8s\n",
      "[CV] END criterion=gini, max_depth=560, max_features=sqrt, min_samples_leaf=1, min_samples_split=10, n_estimators=200; total time=   0.8s\n",
      "[CV] END criterion=gini, max_depth=560, max_features=sqrt, min_samples_leaf=1, min_samples_split=10, n_estimators=200; total time=   0.8s\n",
      "[CV] END criterion=gini, max_depth=890, max_features=auto, min_samples_leaf=2, min_samples_split=2, n_estimators=800; total time=   3.8s\n",
      "[CV] END criterion=gini, max_depth=890, max_features=auto, min_samples_leaf=2, min_samples_split=2, n_estimators=800; total time=   3.5s\n",
      "[CV] END criterion=gini, max_depth=890, max_features=auto, min_samples_leaf=2, min_samples_split=2, n_estimators=800; total time=   3.3s\n",
      "[CV] END criterion=entropy, max_depth=450, max_features=log2, min_samples_leaf=4, min_samples_split=2, n_estimators=800; total time=   3.6s\n",
      "[CV] END criterion=entropy, max_depth=450, max_features=log2, min_samples_leaf=4, min_samples_split=2, n_estimators=800; total time=   3.9s\n",
      "[CV] END criterion=entropy, max_depth=450, max_features=log2, min_samples_leaf=4, min_samples_split=2, n_estimators=800; total time=   3.8s\n",
      "[CV] END criterion=entropy, max_depth=780, max_features=auto, min_samples_leaf=1, min_samples_split=4, n_estimators=400; total time=   1.9s\n",
      "[CV] END criterion=entropy, max_depth=780, max_features=auto, min_samples_leaf=1, min_samples_split=4, n_estimators=400; total time=   1.8s\n",
      "[CV] END criterion=entropy, max_depth=780, max_features=auto, min_samples_leaf=1, min_samples_split=4, n_estimators=400; total time=   1.8s\n",
      "[CV] END criterion=gini, max_depth=1000, max_features=sqrt, min_samples_leaf=4, min_samples_split=5, n_estimators=1200; total time=   5.0s\n",
      "[CV] END criterion=gini, max_depth=1000, max_features=sqrt, min_samples_leaf=4, min_samples_split=5, n_estimators=1200; total time=   5.2s\n",
      "[CV] END criterion=gini, max_depth=1000, max_features=sqrt, min_samples_leaf=4, min_samples_split=5, n_estimators=1200; total time=   4.8s\n",
      "[CV] END criterion=gini, max_depth=1000, max_features=log2, min_samples_leaf=8, min_samples_split=2, n_estimators=2000; total time=   8.9s\n",
      "[CV] END criterion=gini, max_depth=1000, max_features=log2, min_samples_leaf=8, min_samples_split=2, n_estimators=2000; total time=   8.7s\n",
      "[CV] END criterion=gini, max_depth=1000, max_features=log2, min_samples_leaf=8, min_samples_split=2, n_estimators=2000; total time=   8.8s\n",
      "[CV] END criterion=gini, max_depth=780, max_features=sqrt, min_samples_leaf=6, min_samples_split=4, n_estimators=1600; total time=   6.8s\n",
      "[CV] END criterion=gini, max_depth=780, max_features=sqrt, min_samples_leaf=6, min_samples_split=4, n_estimators=1600; total time=   6.5s\n",
      "[CV] END criterion=gini, max_depth=780, max_features=sqrt, min_samples_leaf=6, min_samples_split=4, n_estimators=1600; total time=   6.4s\n",
      "[CV] END criterion=entropy, max_depth=670, max_features=auto, min_samples_leaf=8, min_samples_split=2, n_estimators=1600; total time=   6.6s\n",
      "[CV] END criterion=entropy, max_depth=670, max_features=auto, min_samples_leaf=8, min_samples_split=2, n_estimators=1600; total time=   6.6s\n",
      "[CV] END criterion=entropy, max_depth=670, max_features=auto, min_samples_leaf=8, min_samples_split=2, n_estimators=1600; total time=   6.4s\n",
      "[CV] END criterion=gini, max_depth=890, max_features=log2, min_samples_leaf=1, min_samples_split=2, n_estimators=1600; total time=   7.1s\n",
      "[CV] END criterion=gini, max_depth=890, max_features=log2, min_samples_leaf=1, min_samples_split=2, n_estimators=1600; total time=   7.2s\n",
      "[CV] END criterion=gini, max_depth=890, max_features=log2, min_samples_leaf=1, min_samples_split=2, n_estimators=1600; total time=   6.7s\n",
      "[CV] END criterion=entropy, max_depth=890, max_features=auto, min_samples_leaf=2, min_samples_split=5, n_estimators=2000; total time=   8.6s\n",
      "[CV] END criterion=entropy, max_depth=890, max_features=auto, min_samples_leaf=2, min_samples_split=5, n_estimators=2000; total time=   9.2s\n",
      "[CV] END criterion=entropy, max_depth=890, max_features=auto, min_samples_leaf=2, min_samples_split=5, n_estimators=2000; total time=   8.6s\n",
      "[CV] END criterion=entropy, max_depth=560, max_features=log2, min_samples_leaf=1, min_samples_split=2, n_estimators=1800; total time=   8.7s\n"
     ]
    },
    {
     "name": "stdout",
     "output_type": "stream",
     "text": [
      "[CV] END criterion=entropy, max_depth=560, max_features=log2, min_samples_leaf=1, min_samples_split=2, n_estimators=1800; total time=   8.8s\n",
      "[CV] END criterion=entropy, max_depth=560, max_features=log2, min_samples_leaf=1, min_samples_split=2, n_estimators=1800; total time=   8.6s\n",
      "[CV] END criterion=entropy, max_depth=10, max_features=auto, min_samples_leaf=1, min_samples_split=2, n_estimators=600; total time=   2.6s\n",
      "[CV] END criterion=entropy, max_depth=10, max_features=auto, min_samples_leaf=1, min_samples_split=2, n_estimators=600; total time=   2.5s\n",
      "[CV] END criterion=entropy, max_depth=10, max_features=auto, min_samples_leaf=1, min_samples_split=2, n_estimators=600; total time=   2.5s\n",
      "[CV] END criterion=entropy, max_depth=120, max_features=sqrt, min_samples_leaf=4, min_samples_split=2, n_estimators=2000; total time=   8.3s\n",
      "[CV] END criterion=entropy, max_depth=120, max_features=sqrt, min_samples_leaf=4, min_samples_split=2, n_estimators=2000; total time=   8.4s\n",
      "[CV] END criterion=entropy, max_depth=120, max_features=sqrt, min_samples_leaf=4, min_samples_split=2, n_estimators=2000; total time=   8.4s\n",
      "[CV] END criterion=entropy, max_depth=780, max_features=log2, min_samples_leaf=4, min_samples_split=4, n_estimators=800; total time=   3.6s\n",
      "[CV] END criterion=entropy, max_depth=780, max_features=log2, min_samples_leaf=4, min_samples_split=4, n_estimators=800; total time=   3.7s\n",
      "[CV] END criterion=entropy, max_depth=780, max_features=log2, min_samples_leaf=4, min_samples_split=4, n_estimators=800; total time=   3.5s\n",
      "[CV] END criterion=entropy, max_depth=450, max_features=auto, min_samples_leaf=6, min_samples_split=2, n_estimators=1400; total time=   5.7s\n",
      "[CV] END criterion=entropy, max_depth=450, max_features=auto, min_samples_leaf=6, min_samples_split=2, n_estimators=1400; total time=   5.6s\n",
      "[CV] END criterion=entropy, max_depth=450, max_features=auto, min_samples_leaf=6, min_samples_split=2, n_estimators=1400; total time=   5.6s\n",
      "[CV] END criterion=gini, max_depth=670, max_features=auto, min_samples_leaf=1, min_samples_split=5, n_estimators=2000; total time=   8.1s\n",
      "[CV] END criterion=gini, max_depth=670, max_features=auto, min_samples_leaf=1, min_samples_split=5, n_estimators=2000; total time=   8.3s\n",
      "[CV] END criterion=gini, max_depth=670, max_features=auto, min_samples_leaf=1, min_samples_split=5, n_estimators=2000; total time=   8.1s\n",
      "[CV] END criterion=gini, max_depth=780, max_features=auto, min_samples_leaf=4, min_samples_split=10, n_estimators=800; total time=   3.1s\n",
      "[CV] END criterion=gini, max_depth=780, max_features=auto, min_samples_leaf=4, min_samples_split=10, n_estimators=800; total time=   3.1s\n",
      "[CV] END criterion=gini, max_depth=780, max_features=auto, min_samples_leaf=4, min_samples_split=10, n_estimators=800; total time=   3.0s\n",
      "[CV] END criterion=entropy, max_depth=560, max_features=sqrt, min_samples_leaf=2, min_samples_split=5, n_estimators=800; total time=   3.4s\n",
      "[CV] END criterion=entropy, max_depth=560, max_features=sqrt, min_samples_leaf=2, min_samples_split=5, n_estimators=800; total time=   3.4s\n",
      "[CV] END criterion=entropy, max_depth=560, max_features=sqrt, min_samples_leaf=2, min_samples_split=5, n_estimators=800; total time=   3.4s\n",
      "[CV] END criterion=gini, max_depth=230, max_features=sqrt, min_samples_leaf=1, min_samples_split=2, n_estimators=1400; total time=   5.8s\n",
      "[CV] END criterion=gini, max_depth=230, max_features=sqrt, min_samples_leaf=1, min_samples_split=2, n_estimators=1400; total time=   5.8s\n",
      "[CV] END criterion=gini, max_depth=230, max_features=sqrt, min_samples_leaf=1, min_samples_split=2, n_estimators=1400; total time=   5.7s\n",
      "[CV] END criterion=entropy, max_depth=670, max_features=sqrt, min_samples_leaf=8, min_samples_split=4, n_estimators=1800; total time=   7.1s\n",
      "[CV] END criterion=entropy, max_depth=670, max_features=sqrt, min_samples_leaf=8, min_samples_split=4, n_estimators=1800; total time=   7.1s\n",
      "[CV] END criterion=entropy, max_depth=670, max_features=sqrt, min_samples_leaf=8, min_samples_split=4, n_estimators=1800; total time=   7.2s\n",
      "[CV] END criterion=entropy, max_depth=450, max_features=log2, min_samples_leaf=8, min_samples_split=4, n_estimators=600; total time=   2.5s\n",
      "[CV] END criterion=entropy, max_depth=450, max_features=log2, min_samples_leaf=8, min_samples_split=4, n_estimators=600; total time=   2.5s\n",
      "[CV] END criterion=entropy, max_depth=450, max_features=log2, min_samples_leaf=8, min_samples_split=4, n_estimators=600; total time=   2.5s\n",
      "[CV] END criterion=gini, max_depth=1000, max_features=auto, min_samples_leaf=8, min_samples_split=2, n_estimators=1600; total time=   6.1s\n",
      "[CV] END criterion=gini, max_depth=1000, max_features=auto, min_samples_leaf=8, min_samples_split=2, n_estimators=1600; total time=   6.1s\n",
      "[CV] END criterion=gini, max_depth=1000, max_features=auto, min_samples_leaf=8, min_samples_split=2, n_estimators=1600; total time=   6.0s\n",
      "[CV] END criterion=entropy, max_depth=670, max_features=sqrt, min_samples_leaf=6, min_samples_split=10, n_estimators=2000; total time=   8.2s\n",
      "[CV] END criterion=entropy, max_depth=670, max_features=sqrt, min_samples_leaf=6, min_samples_split=10, n_estimators=2000; total time=   8.7s\n",
      "[CV] END criterion=entropy, max_depth=670, max_features=sqrt, min_samples_leaf=6, min_samples_split=10, n_estimators=2000; total time=   8.2s\n",
      "[CV] END criterion=entropy, max_depth=120, max_features=sqrt, min_samples_leaf=1, min_samples_split=2, n_estimators=1400; total time=   6.2s\n",
      "[CV] END criterion=entropy, max_depth=120, max_features=sqrt, min_samples_leaf=1, min_samples_split=2, n_estimators=1400; total time=   6.2s\n",
      "[CV] END criterion=entropy, max_depth=120, max_features=sqrt, min_samples_leaf=1, min_samples_split=2, n_estimators=1400; total time=   6.2s\n",
      "[CV] END criterion=gini, max_depth=780, max_features=sqrt, min_samples_leaf=1, min_samples_split=5, n_estimators=600; total time=   2.3s\n",
      "[CV] END criterion=gini, max_depth=780, max_features=sqrt, min_samples_leaf=1, min_samples_split=5, n_estimators=600; total time=   2.5s\n",
      "[CV] END criterion=gini, max_depth=780, max_features=sqrt, min_samples_leaf=1, min_samples_split=5, n_estimators=600; total time=   2.4s\n",
      "[CV] END criterion=gini, max_depth=450, max_features=auto, min_samples_leaf=2, min_samples_split=10, n_estimators=1400; total time=   5.6s\n",
      "[CV] END criterion=gini, max_depth=450, max_features=auto, min_samples_leaf=2, min_samples_split=10, n_estimators=1400; total time=   5.5s\n",
      "[CV] END criterion=gini, max_depth=450, max_features=auto, min_samples_leaf=2, min_samples_split=10, n_estimators=1400; total time=   5.6s\n",
      "[CV] END criterion=entropy, max_depth=340, max_features=log2, min_samples_leaf=2, min_samples_split=2, n_estimators=200; total time=   0.9s\n",
      "[CV] END criterion=entropy, max_depth=340, max_features=log2, min_samples_leaf=2, min_samples_split=2, n_estimators=200; total time=   1.0s\n",
      "[CV] END criterion=entropy, max_depth=340, max_features=log2, min_samples_leaf=2, min_samples_split=2, n_estimators=200; total time=   1.0s\n",
      "[CV] END criterion=gini, max_depth=120, max_features=log2, min_samples_leaf=4, min_samples_split=5, n_estimators=1400; total time=   6.0s\n",
      "[CV] END criterion=gini, max_depth=120, max_features=log2, min_samples_leaf=4, min_samples_split=5, n_estimators=1400; total time=   5.8s\n",
      "[CV] END criterion=gini, max_depth=120, max_features=log2, min_samples_leaf=4, min_samples_split=5, n_estimators=1400; total time=   5.7s\n",
      "[CV] END criterion=gini, max_depth=120, max_features=log2, min_samples_leaf=2, min_samples_split=4, n_estimators=1000; total time=   5.1s\n",
      "[CV] END criterion=gini, max_depth=120, max_features=log2, min_samples_leaf=2, min_samples_split=4, n_estimators=1000; total time=   4.5s\n",
      "[CV] END criterion=gini, max_depth=120, max_features=log2, min_samples_leaf=2, min_samples_split=4, n_estimators=1000; total time=   4.3s\n",
      "[CV] END criterion=entropy, max_depth=780, max_features=sqrt, min_samples_leaf=6, min_samples_split=5, n_estimators=800; total time=   3.2s\n",
      "[CV] END criterion=entropy, max_depth=780, max_features=sqrt, min_samples_leaf=6, min_samples_split=5, n_estimators=800; total time=   3.1s\n",
      "[CV] END criterion=entropy, max_depth=780, max_features=sqrt, min_samples_leaf=6, min_samples_split=5, n_estimators=800; total time=   3.1s\n"
     ]
    },
    {
     "name": "stdout",
     "output_type": "stream",
     "text": [
      "[CV] END criterion=entropy, max_depth=230, max_features=log2, min_samples_leaf=6, min_samples_split=5, n_estimators=1800; total time=   7.9s\n",
      "[CV] END criterion=entropy, max_depth=230, max_features=log2, min_samples_leaf=6, min_samples_split=5, n_estimators=1800; total time=   7.9s\n",
      "[CV] END criterion=entropy, max_depth=230, max_features=log2, min_samples_leaf=6, min_samples_split=5, n_estimators=1800; total time=   7.9s\n",
      "[CV] END criterion=entropy, max_depth=780, max_features=auto, min_samples_leaf=8, min_samples_split=2, n_estimators=2000; total time=   7.9s\n",
      "[CV] END criterion=entropy, max_depth=780, max_features=auto, min_samples_leaf=8, min_samples_split=2, n_estimators=2000; total time=   7.9s\n",
      "[CV] END criterion=entropy, max_depth=780, max_features=auto, min_samples_leaf=8, min_samples_split=2, n_estimators=2000; total time=   8.0s\n",
      "[CV] END criterion=gini, max_depth=670, max_features=auto, min_samples_leaf=6, min_samples_split=10, n_estimators=400; total time=   1.5s\n",
      "[CV] END criterion=gini, max_depth=670, max_features=auto, min_samples_leaf=6, min_samples_split=10, n_estimators=400; total time=   1.5s\n",
      "[CV] END criterion=gini, max_depth=670, max_features=auto, min_samples_leaf=6, min_samples_split=10, n_estimators=400; total time=   1.5s\n",
      "[CV] END criterion=gini, max_depth=450, max_features=log2, min_samples_leaf=1, min_samples_split=5, n_estimators=200; total time=   0.8s\n",
      "[CV] END criterion=gini, max_depth=450, max_features=log2, min_samples_leaf=1, min_samples_split=5, n_estimators=200; total time=   0.8s\n",
      "[CV] END criterion=gini, max_depth=450, max_features=log2, min_samples_leaf=1, min_samples_split=5, n_estimators=200; total time=   0.8s\n",
      "[CV] END criterion=gini, max_depth=340, max_features=log2, min_samples_leaf=1, min_samples_split=2, n_estimators=2000; total time=   8.9s\n",
      "[CV] END criterion=gini, max_depth=340, max_features=log2, min_samples_leaf=1, min_samples_split=2, n_estimators=2000; total time=   8.8s\n",
      "[CV] END criterion=gini, max_depth=340, max_features=log2, min_samples_leaf=1, min_samples_split=2, n_estimators=2000; total time=   8.7s\n",
      "[CV] END criterion=gini, max_depth=230, max_features=auto, min_samples_leaf=1, min_samples_split=10, n_estimators=400; total time=   1.5s\n",
      "[CV] END criterion=gini, max_depth=230, max_features=auto, min_samples_leaf=1, min_samples_split=10, n_estimators=400; total time=   1.5s\n",
      "[CV] END criterion=gini, max_depth=230, max_features=auto, min_samples_leaf=1, min_samples_split=10, n_estimators=400; total time=   1.5s\n",
      "[CV] END criterion=gini, max_depth=10, max_features=sqrt, min_samples_leaf=1, min_samples_split=5, n_estimators=600; total time=   2.4s\n",
      "[CV] END criterion=gini, max_depth=10, max_features=sqrt, min_samples_leaf=1, min_samples_split=5, n_estimators=600; total time=   2.4s\n",
      "[CV] END criterion=gini, max_depth=10, max_features=sqrt, min_samples_leaf=1, min_samples_split=5, n_estimators=600; total time=   2.4s\n",
      "[CV] END criterion=entropy, max_depth=10, max_features=log2, min_samples_leaf=4, min_samples_split=2, n_estimators=1800; total time=   8.2s\n",
      "[CV] END criterion=entropy, max_depth=10, max_features=log2, min_samples_leaf=4, min_samples_split=2, n_estimators=1800; total time=   8.2s\n",
      "[CV] END criterion=entropy, max_depth=10, max_features=log2, min_samples_leaf=4, min_samples_split=2, n_estimators=1800; total time=   8.0s\n",
      "[CV] END criterion=entropy, max_depth=560, max_features=log2, min_samples_leaf=1, min_samples_split=5, n_estimators=2000; total time=   9.6s\n",
      "[CV] END criterion=entropy, max_depth=560, max_features=log2, min_samples_leaf=1, min_samples_split=5, n_estimators=2000; total time=   9.8s\n",
      "[CV] END criterion=entropy, max_depth=560, max_features=log2, min_samples_leaf=1, min_samples_split=5, n_estimators=2000; total time=   9.6s\n",
      "[CV] END criterion=gini, max_depth=890, max_features=auto, min_samples_leaf=6, min_samples_split=5, n_estimators=800; total time=   3.0s\n",
      "[CV] END criterion=gini, max_depth=890, max_features=auto, min_samples_leaf=6, min_samples_split=5, n_estimators=800; total time=   2.9s\n",
      "[CV] END criterion=gini, max_depth=890, max_features=auto, min_samples_leaf=6, min_samples_split=5, n_estimators=800; total time=   3.0s\n",
      "[CV] END criterion=entropy, max_depth=670, max_features=log2, min_samples_leaf=4, min_samples_split=10, n_estimators=2000; total time=   9.0s\n",
      "[CV] END criterion=entropy, max_depth=670, max_features=log2, min_samples_leaf=4, min_samples_split=10, n_estimators=2000; total time=   9.0s\n",
      "[CV] END criterion=entropy, max_depth=670, max_features=log2, min_samples_leaf=4, min_samples_split=10, n_estimators=2000; total time=   9.0s\n",
      "[CV] END criterion=entropy, max_depth=890, max_features=log2, min_samples_leaf=4, min_samples_split=10, n_estimators=1200; total time=   5.4s\n",
      "[CV] END criterion=entropy, max_depth=890, max_features=log2, min_samples_leaf=4, min_samples_split=10, n_estimators=1200; total time=   5.3s\n",
      "[CV] END criterion=entropy, max_depth=890, max_features=log2, min_samples_leaf=4, min_samples_split=10, n_estimators=1200; total time=   5.3s\n",
      "[CV] END criterion=gini, max_depth=780, max_features=log2, min_samples_leaf=1, min_samples_split=2, n_estimators=600; total time=   2.5s\n",
      "[CV] END criterion=gini, max_depth=780, max_features=log2, min_samples_leaf=1, min_samples_split=2, n_estimators=600; total time=   2.6s\n",
      "[CV] END criterion=gini, max_depth=780, max_features=log2, min_samples_leaf=1, min_samples_split=2, n_estimators=600; total time=   2.5s\n",
      "[CV] END criterion=entropy, max_depth=780, max_features=auto, min_samples_leaf=1, min_samples_split=10, n_estimators=1600; total time=   6.9s\n",
      "[CV] END criterion=entropy, max_depth=780, max_features=auto, min_samples_leaf=1, min_samples_split=10, n_estimators=1600; total time=   6.9s\n",
      "[CV] END criterion=entropy, max_depth=780, max_features=auto, min_samples_leaf=1, min_samples_split=10, n_estimators=1600; total time=   6.8s\n",
      "[CV] END criterion=entropy, max_depth=450, max_features=sqrt, min_samples_leaf=1, min_samples_split=4, n_estimators=200; total time=   0.8s\n",
      "[CV] END criterion=entropy, max_depth=450, max_features=sqrt, min_samples_leaf=1, min_samples_split=4, n_estimators=200; total time=   0.8s\n",
      "[CV] END criterion=entropy, max_depth=450, max_features=sqrt, min_samples_leaf=1, min_samples_split=4, n_estimators=200; total time=   0.8s\n",
      "[CV] END criterion=entropy, max_depth=230, max_features=log2, min_samples_leaf=2, min_samples_split=10, n_estimators=1600; total time=   7.3s\n",
      "[CV] END criterion=entropy, max_depth=230, max_features=log2, min_samples_leaf=2, min_samples_split=10, n_estimators=1600; total time=   7.3s\n",
      "[CV] END criterion=entropy, max_depth=230, max_features=log2, min_samples_leaf=2, min_samples_split=10, n_estimators=1600; total time=   7.3s\n",
      "[CV] END criterion=gini, max_depth=560, max_features=log2, min_samples_leaf=1, min_samples_split=10, n_estimators=1800; total time=   7.7s\n",
      "[CV] END criterion=gini, max_depth=560, max_features=log2, min_samples_leaf=1, min_samples_split=10, n_estimators=1800; total time=   7.6s\n",
      "[CV] END criterion=gini, max_depth=560, max_features=log2, min_samples_leaf=1, min_samples_split=10, n_estimators=1800; total time=   7.6s\n",
      "[CV] END criterion=gini, max_depth=450, max_features=auto, min_samples_leaf=8, min_samples_split=10, n_estimators=1400; total time=   5.4s\n",
      "[CV] END criterion=gini, max_depth=450, max_features=auto, min_samples_leaf=8, min_samples_split=10, n_estimators=1400; total time=   5.3s\n",
      "[CV] END criterion=gini, max_depth=450, max_features=auto, min_samples_leaf=8, min_samples_split=10, n_estimators=1400; total time=   5.3s\n",
      "[CV] END criterion=gini, max_depth=1000, max_features=sqrt, min_samples_leaf=8, min_samples_split=2, n_estimators=1400; total time=   5.3s\n",
      "[CV] END criterion=gini, max_depth=1000, max_features=sqrt, min_samples_leaf=8, min_samples_split=2, n_estimators=1400; total time=   5.3s\n",
      "[CV] END criterion=gini, max_depth=1000, max_features=sqrt, min_samples_leaf=8, min_samples_split=2, n_estimators=1400; total time=   5.6s\n",
      "[CV] END criterion=entropy, max_depth=780, max_features=sqrt, min_samples_leaf=8, min_samples_split=4, n_estimators=400; total time=   1.5s\n",
      "[CV] END criterion=entropy, max_depth=780, max_features=sqrt, min_samples_leaf=8, min_samples_split=4, n_estimators=400; total time=   1.5s\n"
     ]
    },
    {
     "name": "stdout",
     "output_type": "stream",
     "text": [
      "[CV] END criterion=entropy, max_depth=780, max_features=sqrt, min_samples_leaf=8, min_samples_split=4, n_estimators=400; total time=   1.6s\n",
      "[CV] END criterion=gini, max_depth=450, max_features=log2, min_samples_leaf=1, min_samples_split=4, n_estimators=1200; total time=   5.2s\n",
      "[CV] END criterion=gini, max_depth=450, max_features=log2, min_samples_leaf=1, min_samples_split=4, n_estimators=1200; total time=   5.2s\n",
      "[CV] END criterion=gini, max_depth=450, max_features=log2, min_samples_leaf=1, min_samples_split=4, n_estimators=1200; total time=   5.1s\n",
      "[CV] END criterion=entropy, max_depth=450, max_features=log2, min_samples_leaf=6, min_samples_split=2, n_estimators=400; total time=   1.7s\n",
      "[CV] END criterion=entropy, max_depth=450, max_features=log2, min_samples_leaf=6, min_samples_split=2, n_estimators=400; total time=   1.7s\n",
      "[CV] END criterion=entropy, max_depth=450, max_features=log2, min_samples_leaf=6, min_samples_split=2, n_estimators=400; total time=   1.6s\n",
      "[CV] END criterion=gini, max_depth=1000, max_features=auto, min_samples_leaf=2, min_samples_split=2, n_estimators=1000; total time=   4.0s\n",
      "[CV] END criterion=gini, max_depth=1000, max_features=auto, min_samples_leaf=2, min_samples_split=2, n_estimators=1000; total time=   4.0s\n",
      "[CV] END criterion=gini, max_depth=1000, max_features=auto, min_samples_leaf=2, min_samples_split=2, n_estimators=1000; total time=   4.0s\n",
      "[CV] END criterion=gini, max_depth=780, max_features=auto, min_samples_leaf=2, min_samples_split=4, n_estimators=1400; total time=   5.8s\n",
      "[CV] END criterion=gini, max_depth=780, max_features=auto, min_samples_leaf=2, min_samples_split=4, n_estimators=1400; total time=   5.5s\n",
      "[CV] END criterion=gini, max_depth=780, max_features=auto, min_samples_leaf=2, min_samples_split=4, n_estimators=1400; total time=   5.6s\n",
      "[CV] END criterion=entropy, max_depth=230, max_features=log2, min_samples_leaf=8, min_samples_split=4, n_estimators=1600; total time=   6.8s\n",
      "[CV] END criterion=entropy, max_depth=230, max_features=log2, min_samples_leaf=8, min_samples_split=4, n_estimators=1600; total time=   6.8s\n",
      "[CV] END criterion=entropy, max_depth=230, max_features=log2, min_samples_leaf=8, min_samples_split=4, n_estimators=1600; total time=   6.8s\n",
      "[CV] END criterion=entropy, max_depth=120, max_features=sqrt, min_samples_leaf=1, min_samples_split=4, n_estimators=2000; total time=   8.8s\n",
      "[CV] END criterion=entropy, max_depth=120, max_features=sqrt, min_samples_leaf=1, min_samples_split=4, n_estimators=2000; total time=   8.9s\n",
      "[CV] END criterion=entropy, max_depth=120, max_features=sqrt, min_samples_leaf=1, min_samples_split=4, n_estimators=2000; total time=   8.8s\n",
      "[CV] END criterion=gini, max_depth=10, max_features=auto, min_samples_leaf=8, min_samples_split=10, n_estimators=600; total time=   2.2s\n",
      "[CV] END criterion=gini, max_depth=10, max_features=auto, min_samples_leaf=8, min_samples_split=10, n_estimators=600; total time=   2.2s\n",
      "[CV] END criterion=gini, max_depth=10, max_features=auto, min_samples_leaf=8, min_samples_split=10, n_estimators=600; total time=   2.2s\n",
      "[CV] END criterion=entropy, max_depth=560, max_features=sqrt, min_samples_leaf=4, min_samples_split=2, n_estimators=1400; total time=   5.8s\n",
      "[CV] END criterion=entropy, max_depth=560, max_features=sqrt, min_samples_leaf=4, min_samples_split=2, n_estimators=1400; total time=   5.9s\n",
      "[CV] END criterion=entropy, max_depth=560, max_features=sqrt, min_samples_leaf=4, min_samples_split=2, n_estimators=1400; total time=   5.8s\n",
      "[CV] END criterion=entropy, max_depth=890, max_features=log2, min_samples_leaf=4, min_samples_split=5, n_estimators=200; total time=   0.8s\n",
      "[CV] END criterion=entropy, max_depth=890, max_features=log2, min_samples_leaf=4, min_samples_split=5, n_estimators=200; total time=   0.8s\n",
      "[CV] END criterion=entropy, max_depth=890, max_features=log2, min_samples_leaf=4, min_samples_split=5, n_estimators=200; total time=   0.8s\n",
      "[CV] END criterion=gini, max_depth=890, max_features=sqrt, min_samples_leaf=4, min_samples_split=5, n_estimators=600; total time=   2.3s\n",
      "[CV] END criterion=gini, max_depth=890, max_features=sqrt, min_samples_leaf=4, min_samples_split=5, n_estimators=600; total time=   2.3s\n",
      "[CV] END criterion=gini, max_depth=890, max_features=sqrt, min_samples_leaf=4, min_samples_split=5, n_estimators=600; total time=   2.3s\n",
      "[CV] END criterion=gini, max_depth=10, max_features=sqrt, min_samples_leaf=1, min_samples_split=4, n_estimators=2000; total time=   8.2s\n",
      "[CV] END criterion=gini, max_depth=10, max_features=sqrt, min_samples_leaf=1, min_samples_split=4, n_estimators=2000; total time=   8.3s\n",
      "[CV] END criterion=gini, max_depth=10, max_features=sqrt, min_samples_leaf=1, min_samples_split=4, n_estimators=2000; total time=   8.2s\n",
      "[CV] END criterion=gini, max_depth=340, max_features=auto, min_samples_leaf=4, min_samples_split=4, n_estimators=1600; total time=   6.3s\n",
      "[CV] END criterion=gini, max_depth=340, max_features=auto, min_samples_leaf=4, min_samples_split=4, n_estimators=1600; total time=   6.3s\n",
      "[CV] END criterion=gini, max_depth=340, max_features=auto, min_samples_leaf=4, min_samples_split=4, n_estimators=1600; total time=   6.3s\n",
      "[CV] END criterion=entropy, max_depth=670, max_features=auto, min_samples_leaf=4, min_samples_split=10, n_estimators=800; total time=   3.3s\n",
      "[CV] END criterion=entropy, max_depth=670, max_features=auto, min_samples_leaf=4, min_samples_split=10, n_estimators=800; total time=   3.2s\n",
      "[CV] END criterion=entropy, max_depth=670, max_features=auto, min_samples_leaf=4, min_samples_split=10, n_estimators=800; total time=   3.2s\n",
      "[CV] END criterion=gini, max_depth=340, max_features=auto, min_samples_leaf=8, min_samples_split=2, n_estimators=2000; total time=   7.7s\n",
      "[CV] END criterion=gini, max_depth=340, max_features=auto, min_samples_leaf=8, min_samples_split=2, n_estimators=2000; total time=   7.6s\n",
      "[CV] END criterion=gini, max_depth=340, max_features=auto, min_samples_leaf=8, min_samples_split=2, n_estimators=2000; total time=   7.6s\n",
      "[CV] END criterion=gini, max_depth=230, max_features=sqrt, min_samples_leaf=1, min_samples_split=10, n_estimators=1000; total time=   3.9s\n",
      "[CV] END criterion=gini, max_depth=230, max_features=sqrt, min_samples_leaf=1, min_samples_split=10, n_estimators=1000; total time=   3.9s\n",
      "[CV] END criterion=gini, max_depth=230, max_features=sqrt, min_samples_leaf=1, min_samples_split=10, n_estimators=1000; total time=   3.9s\n",
      "[CV] END criterion=gini, max_depth=890, max_features=sqrt, min_samples_leaf=1, min_samples_split=2, n_estimators=600; total time=   2.4s\n",
      "[CV] END criterion=gini, max_depth=890, max_features=sqrt, min_samples_leaf=1, min_samples_split=2, n_estimators=600; total time=   2.4s\n",
      "[CV] END criterion=gini, max_depth=890, max_features=sqrt, min_samples_leaf=1, min_samples_split=2, n_estimators=600; total time=   2.4s\n",
      "[CV] END criterion=gini, max_depth=670, max_features=sqrt, min_samples_leaf=4, min_samples_split=4, n_estimators=400; total time=   1.5s\n",
      "[CV] END criterion=gini, max_depth=670, max_features=sqrt, min_samples_leaf=4, min_samples_split=4, n_estimators=400; total time=   1.5s\n",
      "[CV] END criterion=gini, max_depth=670, max_features=sqrt, min_samples_leaf=4, min_samples_split=4, n_estimators=400; total time=   1.5s\n",
      "[CV] END criterion=gini, max_depth=450, max_features=auto, min_samples_leaf=1, min_samples_split=5, n_estimators=1800; total time=   7.5s\n",
      "[CV] END criterion=gini, max_depth=450, max_features=auto, min_samples_leaf=1, min_samples_split=5, n_estimators=1800; total time=   7.6s\n",
      "[CV] END criterion=gini, max_depth=450, max_features=auto, min_samples_leaf=1, min_samples_split=5, n_estimators=1800; total time=   7.2s\n",
      "[CV] END criterion=gini, max_depth=560, max_features=auto, min_samples_leaf=4, min_samples_split=10, n_estimators=1600; total time=   6.2s\n",
      "[CV] END criterion=gini, max_depth=560, max_features=auto, min_samples_leaf=4, min_samples_split=10, n_estimators=1600; total time=   6.3s\n",
      "[CV] END criterion=gini, max_depth=560, max_features=auto, min_samples_leaf=4, min_samples_split=10, n_estimators=1600; total time=   6.3s\n",
      "[CV] END criterion=gini, max_depth=670, max_features=log2, min_samples_leaf=1, min_samples_split=4, n_estimators=1600; total time=   7.0s\n",
      "[CV] END criterion=gini, max_depth=670, max_features=log2, min_samples_leaf=1, min_samples_split=4, n_estimators=1600; total time=   7.1s\n"
     ]
    },
    {
     "name": "stdout",
     "output_type": "stream",
     "text": [
      "[CV] END criterion=gini, max_depth=670, max_features=log2, min_samples_leaf=1, min_samples_split=4, n_estimators=1600; total time=   8.3s\n",
      "[CV] END criterion=entropy, max_depth=890, max_features=auto, min_samples_leaf=4, min_samples_split=4, n_estimators=1000; total time=   5.2s\n",
      "[CV] END criterion=entropy, max_depth=890, max_features=auto, min_samples_leaf=4, min_samples_split=4, n_estimators=1000; total time=   4.7s\n",
      "[CV] END criterion=entropy, max_depth=890, max_features=auto, min_samples_leaf=4, min_samples_split=4, n_estimators=1000; total time=   4.2s\n"
     ]
    },
    {
     "data": {
      "text/plain": [
       "RandomizedSearchCV(cv=3, estimator=RandomForestClassifier(), n_iter=100,\n",
       "                   n_jobs=1,\n",
       "                   param_distributions={'criterion': ['entropy', 'gini'],\n",
       "                                        'max_depth': [10, 120, 230, 340, 450,\n",
       "                                                      560, 670, 780, 890,\n",
       "                                                      1000],\n",
       "                                        'max_features': ['auto', 'sqrt',\n",
       "                                                         'log2'],\n",
       "                                        'min_samples_leaf': [1, 2, 4, 6, 8],\n",
       "                                        'min_samples_split': [2, 5, 10, 4],\n",
       "                                        'n_estimators': [200, 400, 600, 800,\n",
       "                                                         1000, 1200, 1400, 1600,\n",
       "                                                         1800, 2000]},\n",
       "                   random_state=100, verbose=2)"
      ]
     },
     "execution_count": 24,
     "metadata": {},
     "output_type": "execute_result"
    }
   ],
   "source": [
    "rf = RandomForestClassifier()\n",
    "rf_random_cv = RandomizedSearchCV(estimator = rf, param_distributions = random_grid, n_iter = 100, cv = 3, verbose = 2,\n",
    "                                 random_state = 100, n_jobs = 1)\n",
    "\n",
    "#fit the randomized model\n",
    "rf_random_cv.fit(X_train, y_train)"
   ]
  },
  {
   "cell_type": "code",
   "execution_count": 25,
   "metadata": {},
   "outputs": [
    {
     "data": {
      "text/plain": [
       "{'n_estimators': 800,\n",
       " 'min_samples_split': 5,\n",
       " 'min_samples_leaf': 1,\n",
       " 'max_features': 'sqrt',\n",
       " 'max_depth': 560,\n",
       " 'criterion': 'entropy'}"
      ]
     },
     "execution_count": 25,
     "metadata": {},
     "output_type": "execute_result"
    }
   ],
   "source": [
    "rf_random_cv.best_params_"
   ]
  },
  {
   "cell_type": "code",
   "execution_count": 26,
   "metadata": {},
   "outputs": [
    {
     "data": {
      "text/plain": [
       "RandomizedSearchCV(cv=3, estimator=RandomForestClassifier(), n_iter=100,\n",
       "                   n_jobs=1,\n",
       "                   param_distributions={'criterion': ['entropy', 'gini'],\n",
       "                                        'max_depth': [10, 120, 230, 340, 450,\n",
       "                                                      560, 670, 780, 890,\n",
       "                                                      1000],\n",
       "                                        'max_features': ['auto', 'sqrt',\n",
       "                                                         'log2'],\n",
       "                                        'min_samples_leaf': [1, 2, 4, 6, 8],\n",
       "                                        'min_samples_split': [2, 5, 10, 4],\n",
       "                                        'n_estimators': [200, 400, 600, 800,\n",
       "                                                         1000, 1200, 1400, 1600,\n",
       "                                                         1800, 2000]},\n",
       "                   random_state=100, verbose=2)"
      ]
     },
     "execution_count": 26,
     "metadata": {},
     "output_type": "execute_result"
    }
   ],
   "source": [
    "rf_random_cv"
   ]
  },
  {
   "cell_type": "code",
   "execution_count": 27,
   "metadata": {},
   "outputs": [],
   "source": [
    "best_random_grid = rf_random_cv.best_estimator_"
   ]
  },
  {
   "cell_type": "code",
   "execution_count": null,
   "metadata": {},
   "outputs": [],
   "source": [
    "from sklearn.metrics import accuracy_score\n",
    "y_pred=best_random_grid.predict(X_test)\n",
    "print(confusion_matrix(y_test,y_pred))\n",
    "print(\"Accuracy Score {}\".format(accuracy_score(y_test,y_pred)))\n",
    "print(\"Classification report: {}\".format(classification_report(y_test,y_pred)))"
   ]
  },
  {
   "cell_type": "code",
   "execution_count": 30,
   "metadata": {},
   "outputs": [
    {
     "name": "stdout",
     "output_type": "stream",
     "text": [
      "Confusion_matrix:  [[95 12]\n",
      " [13 34]]\n",
      "Accuracy Score 0.8376623376623377\n",
      "Classification report:               precision    recall  f1-score   support\n",
      "\n",
      "           0       0.88      0.89      0.88       107\n",
      "           1       0.74      0.72      0.73        47\n",
      "\n",
      "    accuracy                           0.84       154\n",
      "   macro avg       0.81      0.81      0.81       154\n",
      "weighted avg       0.84      0.84      0.84       154\n",
      "\n"
     ]
    }
   ],
   "source": [
    "from sklearn.metrics import accuracy_score\n",
    "y_pred = best_random_grid.predict(X_test)\n",
    "print(\"Confusion_matrix: \", confusion_matrix(y_test, y_pred))\n",
    "print(\"Accuracy Score {}\".format(accuracy_score(y_test, y_pred)))\n",
    "print(\"Classification report: {}\".format(classification_report(y_test, y_pred)))"
   ]
  },
  {
   "cell_type": "markdown",
   "metadata": {},
   "source": [
    "###### GridSearch CV"
   ]
  },
  {
   "cell_type": "code",
   "execution_count": 31,
   "metadata": {},
   "outputs": [
    {
     "data": {
      "text/plain": [
       "{'n_estimators': 800,\n",
       " 'min_samples_split': 5,\n",
       " 'min_samples_leaf': 1,\n",
       " 'max_features': 'sqrt',\n",
       " 'max_depth': 560,\n",
       " 'criterion': 'entropy'}"
      ]
     },
     "execution_count": 31,
     "metadata": {},
     "output_type": "execute_result"
    }
   ],
   "source": [
    "rf_random_cv.best_params_"
   ]
  },
  {
   "cell_type": "code",
   "execution_count": 32,
   "metadata": {},
   "outputs": [
    {
     "name": "stdout",
     "output_type": "stream",
     "text": [
      "{'criterion': ['entropy'], 'max_depth': [560], 'max_features': ['sqrt'], 'min_samples_leaf': [1, 3, 5], 'min_samples_split': [3, 4, 5, 6, 7], 'n_estimators': [600, 700, 800, 900, 1000]}\n"
     ]
    }
   ],
   "source": [
    "from sklearn.model_selection import GridSearchCV\n",
    "\n",
    "param_grid = {\n",
    "    'criterion': [rf_random_cv.best_params_['criterion']],\n",
    "    'max_depth': [rf_random_cv.best_params_['max_depth']],\n",
    "    'max_features': [rf_random_cv.best_params_['max_features']],\n",
    "    'min_samples_leaf': [rf_random_cv.best_params_['min_samples_leaf'],\n",
    "                        rf_random_cv.best_params_['min_samples_leaf']+2,\n",
    "                        rf_random_cv.best_params_['min_samples_leaf']+4],\n",
    "    'min_samples_split': [rf_random_cv.best_params_['min_samples_split'] - 2,\n",
    "                         rf_random_cv.best_params_['min_samples_split'] - 1,\n",
    "                         rf_random_cv.best_params_['min_samples_split'],\n",
    "                         rf_random_cv.best_params_['min_samples_split'] + 1,\n",
    "                         rf_random_cv.best_params_['min_samples_split'] + 2],\n",
    "    'n_estimators': [rf_random_cv.best_params_['n_estimators'] - 200, rf_random_cv.best_params_['n_estimators'] - 100,\n",
    "                     rf_random_cv.best_params_['n_estimators'],\n",
    "                     rf_random_cv.best_params_['n_estimators'] + 100, rf_random_cv.best_params_['n_estimators'] + 200]\n",
    "}\n",
    "                     \n",
    "print(param_grid)"
   ]
  },
  {
   "cell_type": "code",
   "execution_count": 33,
   "metadata": {},
   "outputs": [
    {
     "name": "stdout",
     "output_type": "stream",
     "text": [
      "Fitting 10 folds for each of 75 candidates, totalling 750 fits\n"
     ]
    },
    {
     "data": {
      "text/plain": [
       "GridSearchCV(cv=10, estimator=RandomForestClassifier(), n_jobs=-1,\n",
       "             param_grid={'criterion': ['entropy'], 'max_depth': [560],\n",
       "                         'max_features': ['sqrt'],\n",
       "                         'min_samples_leaf': [1, 3, 5],\n",
       "                         'min_samples_split': [3, 4, 5, 6, 7],\n",
       "                         'n_estimators': [600, 700, 800, 900, 1000]},\n",
       "             verbose=2)"
      ]
     },
     "execution_count": 33,
     "metadata": {},
     "output_type": "execute_result"
    }
   ],
   "source": [
    "#Fit the grid_search to the data\n",
    "rf = RandomForestClassifier()\n",
    "grid_search = GridSearchCV(estimator = rf, param_grid = param_grid, cv = 10, n_jobs = -1, verbose = 2)\n",
    "grid_search.fit(X_train, y_train)"
   ]
  },
  {
   "cell_type": "code",
   "execution_count": 36,
   "metadata": {},
   "outputs": [
    {
     "data": {
      "text/plain": [
       "RandomForestClassifier(criterion='entropy', max_depth=560, max_features='sqrt',\n",
       "                       min_samples_leaf=3, min_samples_split=3,\n",
       "                       n_estimators=900)"
      ]
     },
     "execution_count": 36,
     "metadata": {},
     "output_type": "execute_result"
    }
   ],
   "source": [
    "grid_search.best_estimator_"
   ]
  },
  {
   "cell_type": "code",
   "execution_count": 37,
   "metadata": {},
   "outputs": [],
   "source": [
    "best_grid = grid_search.best_estimator_"
   ]
  },
  {
   "cell_type": "code",
   "execution_count": 38,
   "metadata": {},
   "outputs": [
    {
     "data": {
      "text/plain": [
       "RandomForestClassifier(criterion='entropy', max_depth=560, max_features='sqrt',\n",
       "                       min_samples_leaf=3, min_samples_split=3,\n",
       "                       n_estimators=900)"
      ]
     },
     "execution_count": 38,
     "metadata": {},
     "output_type": "execute_result"
    }
   ],
   "source": [
    "best_grid"
   ]
  },
  {
   "cell_type": "code",
   "execution_count": 39,
   "metadata": {},
   "outputs": [
    {
     "name": "stdout",
     "output_type": "stream",
     "text": [
      "[[96 11]\n",
      " [13 34]]\n",
      "Accuracy Score 0.8441558441558441\n",
      "Classification report:               precision    recall  f1-score   support\n",
      "\n",
      "           0       0.88      0.90      0.89       107\n",
      "           1       0.76      0.72      0.74        47\n",
      "\n",
      "    accuracy                           0.84       154\n",
      "   macro avg       0.82      0.81      0.81       154\n",
      "weighted avg       0.84      0.84      0.84       154\n",
      "\n"
     ]
    }
   ],
   "source": [
    "y_pred = best_grid.predict(X_test)\n",
    "print(confusion_matrix(y_test, y_pred))\n",
    "print(\"Accuracy Score {}\".format(accuracy_score(y_test, y_pred)))\n",
    "print(\"Classification report: {}\".format(classification_report(y_test, y_pred)))"
   ]
  },
  {
   "cell_type": "markdown",
   "metadata": {},
   "source": [
    "####  Automated Hyperparameter Tuning\n",
    "Automated Hyperparameter Tuning can be done by using techniques such as\n",
    "\n",
    "1. Bayesian Optimization\n",
    "2. Gradient Descent\n",
    "3. Evolutionary Algorithms\n",
    "4. Bayesian Optimization\n",
    "\n",
    "#### Bayesian optimization \n",
    "uses probability to find the minimum of a function. The final aim is to find the input value to a function which can gives us the lowest possible output value.It usually performs better than random,grid and manual search providing better performance in the testing phase and reduced optimization time. In Hyperopt, Bayesian Optimization can be implemented giving 3 three main parameters to the function fmin.\n",
    "\n",
    "1. Objective Function = defines the loss function to minimize.\n",
    "2. Domain Space = defines the range of input values to test (in Bayesian Optimization this space creates a probability distribution for each of the used Hyperparameters).\n",
    "3. Optimization Algorithm = defines the search algorithm to use to select the best input values to use in each new iteration."
   ]
  },
  {
   "cell_type": "code",
   "execution_count": 50,
   "metadata": {},
   "outputs": [],
   "source": [
    "from hyperopt import hp, fmin, tpe, STATUS_OK, Trials"
   ]
  },
  {
   "cell_type": "code",
   "execution_count": null,
   "metadata": {},
   "outputs": [],
   "source": [
    "space = {'criterion': hp.choice('criterion', ['entropy', 'gini']),\n",
    "        'max_depth': hp.quniform('max_depth', 10, 1200, 10),\n",
    "        'max_features': hp.choice('max_features', ['auto', 'sqrt','log2', None]),\n",
    "        'min_samples_leaf': hp.uniform('min_samples_leaf', 0, 0.5),\n",
    "        'min_samples_split' : hp.uniform ('min_samples_split', 0, 1),\n",
    "        'n_estimators' : hp.choice('n_estimators', [10, 50, 300, 750, 1200,1300,1500])\n",
    "    }"
   ]
  },
  {
   "cell_type": "code",
   "execution_count": 62,
   "metadata": {},
   "outputs": [],
   "source": [
    "space = {'criterion': hp.choice('criterion', ['entropy', 'gini']),\n",
    "        'max_depth': hp.quniform('max_depth', 10, 1200, 20),\n",
    "        'max_features': hp.choice('max_features', ['auto', 'sqrt', 'log2', None]),\n",
    "         \n",
    "        'min_samples_leaf': hp.uniform('min_samples_leaf', 0, 0.5),\n",
    "        'min_samples_split': hp.uniform('min_samples_split', 0, 1),\n",
    "        'n_estimators': hp.choice('n_estimators', [10, 50, 300, 750, 1200, 1300, 1500])\n",
    "    }"
   ]
  },
  {
   "cell_type": "code",
   "execution_count": 63,
   "metadata": {},
   "outputs": [
    {
     "data": {
      "text/plain": [
       "{'criterion': <hyperopt.pyll.base.Apply at 0x1e143d77190>,\n",
       " 'max_depth': <hyperopt.pyll.base.Apply at 0x1e143d77df0>,\n",
       " 'max_features': <hyperopt.pyll.base.Apply at 0x1e143dafa30>,\n",
       " 'min_samples_leaf': <hyperopt.pyll.base.Apply at 0x1e143daffa0>,\n",
       " 'min_samples_split': <hyperopt.pyll.base.Apply at 0x1e143dafee0>,\n",
       " 'n_estimators': <hyperopt.pyll.base.Apply at 0x1e143dafd30>}"
      ]
     },
     "execution_count": 63,
     "metadata": {},
     "output_type": "execute_result"
    }
   ],
   "source": [
    "space"
   ]
  },
  {
   "cell_type": "code",
   "execution_count": 64,
   "metadata": {},
   "outputs": [],
   "source": [
    "def objective(space):\n",
    "    model = RandomForestClassifier(criterion = space['criterion'], max_depth = space['max_depth'],\n",
    "                                  max_features = space['max_features'],\n",
    "                                  min_samples_leaf = space['min_samples_leaf'],\n",
    "                                  min_samples_split = space['min_samples_split'],\n",
    "                                  n_estimators = space['n_estimators'],\n",
    "                                  )\n",
    "    \n",
    "    accuracy = cross_val_score(model, X_train, y_train, cv = 5).mean()\n",
    "    \n",
    "    #We aim to maximize accuracy, therefore we return it as a negative value\n",
    "    return {'loss': -accuracy, 'status': STATUS_OK}"
   ]
  },
  {
   "cell_type": "code",
   "execution_count": 65,
   "metadata": {},
   "outputs": [
    {
     "name": "stdout",
     "output_type": "stream",
     "text": [
      "100%|███████████████████████████████████████████████| 80/80 [16:16<00:00, 12.21s/trial, best loss: -0.7687858190057311]\n"
     ]
    },
    {
     "data": {
      "text/plain": [
       "{'criterion': 1,\n",
       " 'max_depth': 1180.0,\n",
       " 'max_features': 2,\n",
       " 'min_samples_leaf': 0.024466775476412156,\n",
       " 'min_samples_split': 0.01236846617474427,\n",
       " 'n_estimators': 2}"
      ]
     },
     "execution_count": 65,
     "metadata": {},
     "output_type": "execute_result"
    }
   ],
   "source": [
    "from sklearn.model_selection import cross_val_score\n",
    "trials = Trials()\n",
    "best = fmin(fn= objective,\n",
    "            space= space,\n",
    "            algo= tpe.suggest,\n",
    "            max_evals = 80,\n",
    "            trials= trials)\n",
    "best"
   ]
  },
  {
   "cell_type": "code",
   "execution_count": 67,
   "metadata": {},
   "outputs": [
    {
     "name": "stdout",
     "output_type": "stream",
     "text": [
      "gini\n",
      "log2\n",
      "300\n"
     ]
    }
   ],
   "source": [
    "crit = {0: 'entropy', 1: 'gini'}\n",
    "feat = {0: 'auto', 1: 'sqrt', 2: 'log2', 3: None}\n",
    "est = {0: 10, 1: 50, 2: 300, 3: 750, 4: 1200, 5: 1300, 6: 1500}\n",
    "\n",
    "print(crit[best['criterion']])\n",
    "print(feat[best['max_features']])\n",
    "print(est[best['n_estimators']])"
   ]
  },
  {
   "cell_type": "code",
   "execution_count": 68,
   "metadata": {},
   "outputs": [
    {
     "data": {
      "text/plain": [
       "0.024466775476412156"
      ]
     },
     "execution_count": 68,
     "metadata": {},
     "output_type": "execute_result"
    }
   ],
   "source": [
    "best['min_samples_leaf']"
   ]
  },
  {
   "cell_type": "code",
   "execution_count": 69,
   "metadata": {},
   "outputs": [
    {
     "name": "stdout",
     "output_type": "stream",
     "text": [
      "[[98  9]\n",
      " [19 28]]\n",
      "0.8181818181818182\n",
      "              precision    recall  f1-score   support\n",
      "\n",
      "           0       0.84      0.92      0.88       107\n",
      "           1       0.76      0.60      0.67        47\n",
      "\n",
      "    accuracy                           0.82       154\n",
      "   macro avg       0.80      0.76      0.77       154\n",
      "weighted avg       0.81      0.82      0.81       154\n",
      "\n"
     ]
    }
   ],
   "source": [
    "trainedforest = RandomForestClassifier(criterion = crit[best['criterion']], max_depth = best['max_depth'],\n",
    "                                      max_features = feat[best['max_features']],\n",
    "                                      min_samples_leaf = best['min_samples_leaf'],\n",
    "                                      min_samples_split = best['min_samples_split'],\n",
    "                                      n_estimators = est[best['n_estimators']]).fit(X_train, y_train)\n",
    "\n",
    "predictionforest = trainedforest.predict(X_test)\n",
    "print(confusion_matrix(y_test, predictionforest))\n",
    "print(accuracy_score(y_test, predictionforest))\n",
    "print(classification_report(y_test, predictionforest))\n",
    "acc5 = accuracy_score(y_test, predictionforest)"
   ]
  },
  {
   "cell_type": "markdown",
   "metadata": {},
   "source": [
    "#####  Genetic Algorithms\n",
    "Genetic Algorithms tries to apply natural selection mechanisms to Machine Learning contexts.\n",
    "\n",
    "Let's immagine we create a population of N Machine Learning models with some predifined Hyperparameters. We can then calculate the accuracy of each model and decide to keep just half of the models (the ones that performs best). We can now generate some offsprings having similar Hyperparameters to the ones of the best models so that go get again a population of N models. At this point we can again caltulate the accuracy of each model and repeate the cycle for a defined number of generations. In this way, just the best models will survive at the end of the process."
   ]
  },
  {
   "cell_type": "code",
   "execution_count": 70,
   "metadata": {},
   "outputs": [
    {
     "name": "stdout",
     "output_type": "stream",
     "text": [
      "{'n_estimators': [200, 400, 600, 800, 1000, 1200, 1400, 1600, 1800, 2000], 'max_features': ['auto', 'sqrt', 'log2'], 'min_samples_split': [2, 5, 10, 14], 'min_samples_leaf': [1, 2, 4, 6, 8], 'criterion': ['entropy', 'gini']}\n"
     ]
    }
   ],
   "source": [
    "import numpy as np\n",
    "from sklearn.model_selection import RandomizedSearchCV\n",
    "\n",
    "#Number of trees in random forest\n",
    "n_estimator = [int(x) for x in np.linspace(start = 200, stop = 2000, num = 10)]\n",
    "\n",
    "#number of features to consider at every split\n",
    "max_features = ['auto', 'sqrt', 'log2']\n",
    "\n",
    "#maximum number of levels in tree\n",
    "max_depth = [int(x) for x in np.linspace(10, 1000, 10)]\n",
    "\n",
    "#minimum number of samples required at each split a node\n",
    "min_samples_split = [2, 5, 10, 14]\n",
    "\n",
    "#minimum number of samples required at each leaf node\n",
    "min_samples_leaf = [1, 2, 4, 6, 8] \n",
    "\n",
    "#Create the random  grid\n",
    "param = {'n_estimators': n_estimators,\n",
    "        'max_features': max_features,\n",
    "        'min_samples_split': min_samples_split,\n",
    "         'min_samples_leaf': min_samples_leaf,\n",
    "        'criterion': ['entropy', 'gini']}\n",
    "print(param)"
   ]
  },
  {
   "cell_type": "code",
   "execution_count": 76,
   "metadata": {},
   "outputs": [
    {
     "data": {
      "application/vnd.jupyter.widget-view+json": {
       "model_id": "",
       "version_major": 2,
       "version_minor": 0
      },
      "text/plain": [
       "HBox(children=(HTML(value='Optimization Progress'), FloatProgress(value=0.0, max=84.0), HTML(value='')))"
      ]
     },
     "metadata": {},
     "output_type": "display_data"
    },
    {
     "name": "stdout",
     "output_type": "stream",
     "text": [
      "\n",
      "Generation 1 - Current best internal CV score: 0.7589444868856634\n",
      "\n",
      "Generation 2 - Current best internal CV score: 0.7589657074951193\n",
      "\n",
      "Generation 3 - Current best internal CV score: 0.7589657074951193\n",
      "\n",
      "Generation 4 - Current best internal CV score: 0.7589657074951193\n",
      "\n",
      "Generation 5 - Current best internal CV score: 0.7589657074951193\n",
      "\n",
      "Best pipeline: RandomForestClassifier(RandomForestClassifier(input_matrix, criterion=gini, max_features=sqrt, min_samples_leaf=6, min_samples_split=2, n_estimators=1000), criterion=gini, max_features=log2, min_samples_leaf=8, min_samples_split=14, n_estimators=600)\n"
     ]
    },
    {
     "data": {
      "text/plain": [
       "TPOTClassifier(config_dict={'sklearn.ensemble.RandomForestClassifier': {'criterion': ['entropy',\n",
       "                                                                                      'gini'],\n",
       "                                                                        'max_features': ['auto',\n",
       "                                                                                         'sqrt',\n",
       "                                                                                         'log2'],\n",
       "                                                                        'min_samples_leaf': [1,\n",
       "                                                                                             2,\n",
       "                                                                                             4,\n",
       "                                                                                             6,\n",
       "                                                                                             8],\n",
       "                                                                        'min_samples_split': [2,\n",
       "                                                                                              5,\n",
       "                                                                                              10,\n",
       "                                                                                              14],\n",
       "                                                                        'n_estimators': [200,\n",
       "                                                                                         400,\n",
       "                                                                                         600,\n",
       "                                                                                         800,\n",
       "                                                                                         1000,\n",
       "                                                                                         1200,\n",
       "                                                                                         1400,\n",
       "                                                                                         1600,\n",
       "                                                                                         1800,\n",
       "                                                                                         2000]}},\n",
       "               cv=4, early_stop=12, generations=5, offspring_size=12,\n",
       "               population_size=24, scoring='accuracy', verbosity=2)"
      ]
     },
     "execution_count": 76,
     "metadata": {},
     "output_type": "execute_result"
    }
   ],
   "source": [
    "from tpot import TPOTClassifier\n",
    "\n",
    "tpot_classifier = TPOTClassifier(generations = 5, population_size = 24, offspring_size = 12,\n",
    "                                verbosity = 2, early_stop = 12,\n",
    "                                config_dict = {'sklearn.ensemble.RandomForestClassifier': param},\n",
    "                                 cv = 4, scoring = 'accuracy')\n",
    "tpot_classifier.fit(X_train, y_train)"
   ]
  },
  {
   "cell_type": "code",
   "execution_count": 77,
   "metadata": {},
   "outputs": [
    {
     "name": "stdout",
     "output_type": "stream",
     "text": [
      "0.8441558441558441\n"
     ]
    }
   ],
   "source": [
    "accuracy = tpot_classifier.score(X_test, y_test)\n",
    "print(accuracy)"
   ]
  },
  {
   "cell_type": "markdown",
   "metadata": {},
   "source": [
    "#### Optimize hyperparameters of the model using Optuna\n",
    "The hyperparameters of the above algorithm are n_estimators and max_depth for which we can try different values to see if the model accuracy can be improved. The objective function is modified to accept a trial object. This trial has several methods for sampling hyperparameters. We create a study to run the hyperparameter optimization and finally read the best hyperparameters."
   ]
  },
  {
   "cell_type": "code",
   "execution_count": null,
   "metadata": {},
   "outputs": [],
   "source": [
    "import optuna\n",
    "import sklearn.svm\n",
    "def objective(trial):\n",
    "\n",
    "    classifier = trial.suggest_categorical('classifier', ['RandomForest', 'SVC'])\n",
    "    \n",
    "    if classifier == 'RandomForest':\n",
    "        n_estimators = trial.suggest_int('n_estimators', 200, 2000,10)\n",
    "        max_depth = int(trial.suggest_float('max_depth', 10, 100, log=True))\n",
    "\n",
    "        clf = sklearn.ensemble.RandomForestClassifier(\n",
    "            n_estimators=n_estimators, max_depth=max_depth)\n",
    "    else:\n",
    "        c = trial.suggest_float('svc_c', 1e-10, 1e10, log=True)\n",
    "        \n",
    "        clf = sklearn.svm.SVC(C=c, gamma='auto')\n",
    "\n",
    "    return sklearn.model_selection.cross_val_score(\n",
    "        clf,X_train,y_train, n_jobs=-1, cv=3).mean()"
   ]
  },
  {
   "cell_type": "code",
   "execution_count": 81,
   "metadata": {},
   "outputs": [],
   "source": [
    "import optuna\n",
    "import sklearn.svm\n",
    "def objective(trial):\n",
    "    \n",
    "    classifier = trial.suggest_categorical('classifier', ['RandomForest', 'SVC'])\n",
    "    \n",
    "    if classifier == 'RandomForest':\n",
    "        n_estimators = trial.suggest_int('n_estimators', 200, 2000, 10)\n",
    "        max_depth = int(trial.suggest_float('max_depth', 10, 100, log = True))\n",
    "        \n",
    "        clf = sklearn.ensemble.RandomForestClassifier(\n",
    "        n_estimators = n_estimators, max_depth = max_depth)\n",
    "        \n",
    "    else:\n",
    "        c = trial.suggest_float('svc_c', 1e-10, 1e10, log = True)\n",
    "        \n",
    "        clf = sklearn.svm.SVC(C=c, gamma = 'auto')\n",
    "        \n",
    "    return sklearn.model_selection.cross_val_score(\n",
    "    clf, X_train, y_train, n_jobs = -1, cv = 3).mean()"
   ]
  },
  {
   "cell_type": "code",
   "execution_count": 82,
   "metadata": {},
   "outputs": [
    {
     "name": "stderr",
     "output_type": "stream",
     "text": [
      "\u001b[32m[I 2023-05-25 14:44:19,470]\u001b[0m A new study created in memory with name: no-name-e18a6b64-7b21-4c01-b1ed-205c683f1da9\u001b[0m\n",
      "\u001b[32m[I 2023-05-25 14:44:37,534]\u001b[0m Trial 0 finished with value: 0.7540730113183485 and parameters: {'classifier': 'RandomForest', 'n_estimators': 960, 'max_depth': 54.686061102024304}. Best is trial 0 with value: 0.7540730113183485.\u001b[0m\n",
      "\u001b[32m[I 2023-05-25 14:44:41,939]\u001b[0m Trial 1 finished with value: 0.7491790212019768 and parameters: {'classifier': 'RandomForest', 'n_estimators': 1350, 'max_depth': 52.43959281963123}. Best is trial 0 with value: 0.7540730113183485.\u001b[0m\n",
      "\u001b[32m[I 2023-05-25 14:44:43,754]\u001b[0m Trial 2 finished with value: 0.640068547744301 and parameters: {'classifier': 'SVC', 'svc_c': 661.4587879840966}. Best is trial 0 with value: 0.7540730113183485.\u001b[0m\n",
      "\u001b[32m[I 2023-05-25 14:44:46,605]\u001b[0m Trial 3 finished with value: 0.7540570699824646 and parameters: {'classifier': 'RandomForest', 'n_estimators': 1660, 'max_depth': 89.6144958829051}. Best is trial 0 with value: 0.7540730113183485.\u001b[0m\n",
      "\u001b[32m[I 2023-05-25 14:44:48,261]\u001b[0m Trial 4 finished with value: 0.7459269886816515 and parameters: {'classifier': 'RandomForest', 'n_estimators': 890, 'max_depth': 52.05843483617527}. Best is trial 0 with value: 0.7540730113183485.\u001b[0m\n",
      "\u001b[32m[I 2023-05-25 14:44:51,114]\u001b[0m Trial 5 finished with value: 0.7524390243902439 and parameters: {'classifier': 'RandomForest', 'n_estimators': 1470, 'max_depth': 12.08111388827422}. Best is trial 0 with value: 0.7540730113183485.\u001b[0m\n",
      "\u001b[32m[I 2023-05-25 14:44:53,546]\u001b[0m Trial 6 finished with value: 0.755699027578511 and parameters: {'classifier': 'RandomForest', 'n_estimators': 1320, 'max_depth': 10.141226216864661}. Best is trial 6 with value: 0.755699027578511.\u001b[0m\n",
      "\u001b[32m[I 2023-05-25 14:44:55,177]\u001b[0m Trial 7 finished with value: 0.7410329985652798 and parameters: {'classifier': 'RandomForest', 'n_estimators': 920, 'max_depth': 35.50499586358133}. Best is trial 6 with value: 0.755699027578511.\u001b[0m\n",
      "\u001b[32m[I 2023-05-25 14:44:57,343]\u001b[0m Trial 8 finished with value: 0.7491710505340348 and parameters: {'classifier': 'RandomForest', 'n_estimators': 1210, 'max_depth': 21.66630708368955}. Best is trial 6 with value: 0.755699027578511.\u001b[0m\n",
      "\u001b[32m[I 2023-05-25 14:44:58,958]\u001b[0m Trial 9 finished with value: 0.7524390243902439 and parameters: {'classifier': 'RandomForest', 'n_estimators': 880, 'max_depth': 47.96873755861012}. Best is trial 6 with value: 0.755699027578511.\u001b[0m\n",
      "\u001b[32m[I 2023-05-25 14:44:59,131]\u001b[0m Trial 10 finished with value: 0.640068547744301 and parameters: {'classifier': 'SVC', 'svc_c': 8.993303657216933e-10}. Best is trial 6 with value: 0.755699027578511.\u001b[0m\n",
      "\u001b[32m[I 2023-05-25 14:44:59,193]\u001b[0m Trial 11 finished with value: 0.640068547744301 and parameters: {'classifier': 'SVC', 'svc_c': 391113890.2083803}. Best is trial 6 with value: 0.755699027578511.\u001b[0m\n",
      "\u001b[32m[I 2023-05-25 14:44:59,687]\u001b[0m Trial 12 finished with value: 0.7556830862426271 and parameters: {'classifier': 'RandomForest', 'n_estimators': 260, 'max_depth': 10.079896516916076}. Best is trial 6 with value: 0.755699027578511.\u001b[0m\n",
      "\u001b[32m[I 2023-05-25 14:45:00,212]\u001b[0m Trial 13 finished with value: 0.7426590148254424 and parameters: {'classifier': 'RandomForest', 'n_estimators': 260, 'max_depth': 10.183143560282947}. Best is trial 6 with value: 0.755699027578511.\u001b[0m\n",
      "\u001b[32m[I 2023-05-25 14:45:00,924]\u001b[0m Trial 14 finished with value: 0.7491710505340348 and parameters: {'classifier': 'RandomForest', 'n_estimators': 380, 'max_depth': 14.76639329389693}. Best is trial 6 with value: 0.755699027578511.\u001b[0m\n",
      "\u001b[32m[I 2023-05-25 14:45:00,974]\u001b[0m Trial 15 finished with value: 0.640068547744301 and parameters: {'classifier': 'SVC', 'svc_c': 1.2661119629108684e-09}. Best is trial 6 with value: 0.755699027578511.\u001b[0m\n",
      "\u001b[32m[I 2023-05-25 14:45:04,492]\u001b[0m Trial 16 finished with value: 0.7540650406504065 and parameters: {'classifier': 'RandomForest', 'n_estimators': 1980, 'max_depth': 16.34487518166174}. Best is trial 6 with value: 0.755699027578511.\u001b[0m\n",
      "\u001b[32m[I 2023-05-25 14:45:05,575]\u001b[0m Trial 17 finished with value: 0.7556830862426271 and parameters: {'classifier': 'RandomForest', 'n_estimators': 560, 'max_depth': 10.312041226498234}. Best is trial 6 with value: 0.755699027578511.\u001b[0m\n",
      "\u001b[32m[I 2023-05-25 14:45:05,633]\u001b[0m Trial 18 finished with value: 0.640068547744301 and parameters: {'classifier': 'SVC', 'svc_c': 6718366089.889198}. Best is trial 6 with value: 0.755699027578511.\u001b[0m\n",
      "\u001b[32m[I 2023-05-25 14:45:06,768]\u001b[0m Trial 19 finished with value: 0.7491630798660928 and parameters: {'classifier': 'RandomForest', 'n_estimators': 620, 'max_depth': 19.2141437208651}. Best is trial 6 with value: 0.755699027578511.\u001b[0m\n",
      "\u001b[32m[I 2023-05-25 14:45:09,915]\u001b[0m Trial 20 finished with value: 0.7459110473457676 and parameters: {'classifier': 'RandomForest', 'n_estimators': 1730, 'max_depth': 13.596842985995986}. Best is trial 6 with value: 0.755699027578511.\u001b[0m\n",
      "\u001b[32m[I 2023-05-25 14:45:11,072]\u001b[0m Trial 21 finished with value: 0.7540730113183485 and parameters: {'classifier': 'RandomForest', 'n_estimators': 560, 'max_depth': 10.372672983298362}. Best is trial 6 with value: 0.755699027578511.\u001b[0m\n",
      "\u001b[32m[I 2023-05-25 14:45:11,521]\u001b[0m Trial 22 finished with value: 0.7621951219512195 and parameters: {'classifier': 'RandomForest', 'n_estimators': 200, 'max_depth': 10.205123237257816}. Best is trial 22 with value: 0.7621951219512195.\u001b[0m\n",
      "\u001b[32m[I 2023-05-25 14:45:11,989]\u001b[0m Trial 23 finished with value: 0.7426351028216165 and parameters: {'classifier': 'RandomForest', 'n_estimators': 200, 'max_depth': 14.081430459970054}. Best is trial 22 with value: 0.7621951219512195.\u001b[0m\n",
      "\u001b[32m[I 2023-05-25 14:45:12,951]\u001b[0m Trial 24 finished with value: 0.7377809660449546 and parameters: {'classifier': 'RandomForest', 'n_estimators': 420, 'max_depth': 18.529040606741262}. Best is trial 22 with value: 0.7621951219512195.\u001b[0m\n",
      "\u001b[32m[I 2023-05-25 14:45:14,416]\u001b[0m Trial 25 finished with value: 0.7491790212019768 and parameters: {'classifier': 'RandomForest', 'n_estimators': 730, 'max_depth': 11.793436055880353}. Best is trial 22 with value: 0.7621951219512195.\u001b[0m\n",
      "\u001b[32m[I 2023-05-25 14:45:14,477]\u001b[0m Trial 26 finished with value: 0.640068547744301 and parameters: {'classifier': 'SVC', 'svc_c': 0.013078188910778669}. Best is trial 22 with value: 0.7621951219512195.\u001b[0m\n",
      "\u001b[32m[I 2023-05-25 14:45:17,076]\u001b[0m Trial 27 finished with value: 0.7507970667941973 and parameters: {'classifier': 'RandomForest', 'n_estimators': 1290, 'max_depth': 22.938760318031285}. Best is trial 22 with value: 0.7621951219512195.\u001b[0m\n",
      "\u001b[32m[I 2023-05-25 14:45:19,218]\u001b[0m Trial 28 finished with value: 0.7459269886816515 and parameters: {'classifier': 'RandomForest', 'n_estimators': 1070, 'max_depth': 11.963169889784128}. Best is trial 22 with value: 0.7621951219512195.\u001b[0m\n",
      "\u001b[32m[I 2023-05-25 14:45:19,984]\u001b[0m Trial 29 finished with value: 0.744285031085605 and parameters: {'classifier': 'RandomForest', 'n_estimators': 360, 'max_depth': 15.480964418904556}. Best is trial 22 with value: 0.7621951219512195.\u001b[0m\n",
      "\u001b[32m[I 2023-05-25 14:45:23,183]\u001b[0m Trial 30 finished with value: 0.75242308305436 and parameters: {'classifier': 'RandomForest', 'n_estimators': 1610, 'max_depth': 12.732219976351155}. Best is trial 22 with value: 0.7621951219512195.\u001b[0m\n",
      "\u001b[32m[I 2023-05-25 14:45:24,225]\u001b[0m Trial 31 finished with value: 0.7524390243902439 and parameters: {'classifier': 'RandomForest', 'n_estimators': 510, 'max_depth': 10.523385287154332}. Best is trial 22 with value: 0.7621951219512195.\u001b[0m\n",
      "\u001b[32m[I 2023-05-25 14:45:24,632]\u001b[0m Trial 32 finished with value: 0.752407141718476 and parameters: {'classifier': 'RandomForest', 'n_estimators': 210, 'max_depth': 10.258977270421122}. Best is trial 22 with value: 0.7621951219512195.\u001b[0m\n",
      "\u001b[32m[I 2023-05-25 14:45:26,024]\u001b[0m Trial 33 finished with value: 0.7426749561613263 and parameters: {'classifier': 'RandomForest', 'n_estimators': 670, 'max_depth': 12.537944710949787}. Best is trial 22 with value: 0.7621951219512195.\u001b[0m\n",
      "\u001b[32m[I 2023-05-25 14:45:26,722]\u001b[0m Trial 34 finished with value: 0.7459269886816515 and parameters: {'classifier': 'RandomForest', 'n_estimators': 330, 'max_depth': 10.038123384748516}. Best is trial 22 with value: 0.7621951219512195.\u001b[0m\n"
     ]
    },
    {
     "name": "stderr",
     "output_type": "stream",
     "text": [
      "\u001b[32m[I 2023-05-25 14:45:27,658]\u001b[0m Trial 35 finished with value: 0.7459190180137095 and parameters: {'classifier': 'RandomForest', 'n_estimators': 480, 'max_depth': 15.789999571445085}. Best is trial 22 with value: 0.7621951219512195.\u001b[0m\n",
      "\u001b[32m[I 2023-05-25 14:45:29,197]\u001b[0m Trial 36 finished with value: 0.7540490993145226 and parameters: {'classifier': 'RandomForest', 'n_estimators': 750, 'max_depth': 11.877148340892598}. Best is trial 22 with value: 0.7621951219512195.\u001b[0m\n",
      "\u001b[32m[I 2023-05-25 14:45:29,256]\u001b[0m Trial 37 finished with value: 0.640068547744301 and parameters: {'classifier': 'SVC', 'svc_c': 0.002938412838989278}. Best is trial 22 with value: 0.7621951219512195.\u001b[0m\n",
      "\u001b[32m[I 2023-05-25 14:45:29,859]\u001b[0m Trial 38 finished with value: 0.7410569105691057 and parameters: {'classifier': 'RandomForest', 'n_estimators': 270, 'max_depth': 13.869660773619742}. Best is trial 22 with value: 0.7621951219512195.\u001b[0m\n",
      "\u001b[32m[I 2023-05-25 14:45:32,252]\u001b[0m Trial 39 finished with value: 0.7507970667941973 and parameters: {'classifier': 'RandomForest', 'n_estimators': 1160, 'max_depth': 16.82986770569762}. Best is trial 22 with value: 0.7621951219512195.\u001b[0m\n",
      "\u001b[32m[I 2023-05-25 14:45:34,929]\u001b[0m Trial 40 finished with value: 0.7556910569105691 and parameters: {'classifier': 'RandomForest', 'n_estimators': 1400, 'max_depth': 11.211438830154076}. Best is trial 22 with value: 0.7621951219512195.\u001b[0m\n",
      "\u001b[32m[I 2023-05-25 14:45:37,771]\u001b[0m Trial 41 finished with value: 0.7508050374621393 and parameters: {'classifier': 'RandomForest', 'n_estimators': 1480, 'max_depth': 11.371240220805014}. Best is trial 22 with value: 0.7621951219512195.\u001b[0m\n",
      "\u001b[32m[I 2023-05-25 14:45:40,458]\u001b[0m Trial 42 finished with value: 0.7491790212019768 and parameters: {'classifier': 'RandomForest', 'n_estimators': 1350, 'max_depth': 12.910880458474232}. Best is trial 22 with value: 0.7621951219512195.\u001b[0m\n",
      "\u001b[32m[I 2023-05-25 14:45:43,257]\u001b[0m Trial 43 finished with value: 0.7524390243902439 and parameters: {'classifier': 'RandomForest', 'n_estimators': 1490, 'max_depth': 11.212150515232645}. Best is trial 22 with value: 0.7621951219512195.\u001b[0m\n",
      "\u001b[32m[I 2023-05-25 14:45:45,275]\u001b[0m Trial 44 finished with value: 0.7475370636059302 and parameters: {'classifier': 'RandomForest', 'n_estimators': 1030, 'max_depth': 10.014070669996043}. Best is trial 22 with value: 0.7621951219512195.\u001b[0m\n",
      "\u001b[32m[I 2023-05-25 14:45:47,939]\u001b[0m Trial 45 finished with value: 0.7475450342738722 and parameters: {'classifier': 'RandomForest', 'n_estimators': 1350, 'max_depth': 13.703131505451521}. Best is trial 22 with value: 0.7621951219512195.\u001b[0m\n",
      "\u001b[32m[I 2023-05-25 14:45:47,995]\u001b[0m Trial 46 finished with value: 0.640068547744301 and parameters: {'classifier': 'SVC', 'svc_c': 3151.8320594203124}. Best is trial 22 with value: 0.7621951219512195.\u001b[0m\n",
      "\u001b[32m[I 2023-05-25 14:45:50,338]\u001b[0m Trial 47 finished with value: 0.7475450342738722 and parameters: {'classifier': 'RandomForest', 'n_estimators': 1200, 'max_depth': 11.530879794205683}. Best is trial 22 with value: 0.7621951219512195.\u001b[0m\n",
      "\u001b[32m[I 2023-05-25 14:45:53,643]\u001b[0m Trial 48 finished with value: 0.7524310537223019 and parameters: {'classifier': 'RandomForest', 'n_estimators': 1630, 'max_depth': 11.31237308137327}. Best is trial 22 with value: 0.7621951219512195.\u001b[0m\n",
      "\u001b[32m[I 2023-05-25 14:45:54,653]\u001b[0m Trial 49 finished with value: 0.760561135023115 and parameters: {'classifier': 'RandomForest', 'n_estimators': 450, 'max_depth': 12.670129051441567}. Best is trial 22 with value: 0.7621951219512195.\u001b[0m\n",
      "\u001b[32m[I 2023-05-25 14:45:54,693]\u001b[0m Trial 50 finished with value: 0.640068547744301 and parameters: {'classifier': 'SVC', 'svc_c': 5.921141956397202e-05}. Best is trial 22 with value: 0.7621951219512195.\u001b[0m\n",
      "\u001b[32m[I 2023-05-25 14:45:55,740]\u001b[0m Trial 51 finished with value: 0.7491710505340348 and parameters: {'classifier': 'RandomForest', 'n_estimators': 440, 'max_depth': 13.169643088405545}. Best is trial 22 with value: 0.7621951219512195.\u001b[0m\n",
      "\u001b[32m[I 2023-05-25 14:45:56,306]\u001b[0m Trial 52 finished with value: 0.7459190180137095 and parameters: {'classifier': 'RandomForest', 'n_estimators': 260, 'max_depth': 10.013125255403727}. Best is trial 22 with value: 0.7621951219512195.\u001b[0m\n",
      "\u001b[32m[I 2023-05-25 14:45:57,017]\u001b[0m Trial 53 finished with value: 0.744300972421489 and parameters: {'classifier': 'RandomForest', 'n_estimators': 330, 'max_depth': 11.504696229517275}. Best is trial 22 with value: 0.7621951219512195.\u001b[0m\n",
      "\u001b[32m[I 2023-05-25 14:45:58,272]\u001b[0m Trial 54 finished with value: 0.7459190180137095 and parameters: {'classifier': 'RandomForest', 'n_estimators': 570, 'max_depth': 14.427701518595486}. Best is trial 22 with value: 0.7621951219512195.\u001b[0m\n",
      "\u001b[32m[I 2023-05-25 14:46:00,730]\u001b[0m Trial 55 finished with value: 0.7540650406504065 and parameters: {'classifier': 'RandomForest', 'n_estimators': 1270, 'max_depth': 12.687062634161197}. Best is trial 22 with value: 0.7621951219512195.\u001b[0m\n",
      "\u001b[32m[I 2023-05-25 14:46:01,418]\u001b[0m Trial 56 finished with value: 0.744293001753547 and parameters: {'classifier': 'RandomForest', 'n_estimators': 310, 'max_depth': 10.999283603478592}. Best is trial 22 with value: 0.7621951219512195.\u001b[0m\n",
      "\u001b[32m[I 2023-05-25 14:46:03,255]\u001b[0m Trial 57 finished with value: 0.7524310537223019 and parameters: {'classifier': 'RandomForest', 'n_estimators': 800, 'max_depth': 14.954435562645715}. Best is trial 22 with value: 0.7621951219512195.\u001b[0m\n",
      "\u001b[32m[I 2023-05-25 14:46:06,355]\u001b[0m Trial 58 finished with value: 0.7491710505340348 and parameters: {'classifier': 'RandomForest', 'n_estimators': 1420, 'max_depth': 10.908220265092243}. Best is trial 22 with value: 0.7621951219512195.\u001b[0m\n",
      "\u001b[32m[I 2023-05-25 14:46:06,404]\u001b[0m Trial 59 finished with value: 0.640068547744301 and parameters: {'classifier': 'SVC', 'svc_c': 5.547966468398838e-07}. Best is trial 22 with value: 0.7621951219512195.\u001b[0m\n",
      "\u001b[32m[I 2023-05-25 14:46:10,172]\u001b[0m Trial 60 finished with value: 0.7491630798660928 and parameters: {'classifier': 'RandomForest', 'n_estimators': 1780, 'max_depth': 12.529336133052219}. Best is trial 22 with value: 0.7621951219512195.\u001b[0m\n",
      "\u001b[32m[I 2023-05-25 14:46:11,130]\u001b[0m Trial 61 finished with value: 0.755699027578511 and parameters: {'classifier': 'RandomForest', 'n_estimators': 450, 'max_depth': 68.74158830263806}. Best is trial 22 with value: 0.7621951219512195.\u001b[0m\n",
      "\u001b[32m[I 2023-05-25 14:46:12,173]\u001b[0m Trial 62 finished with value: 0.75242308305436 and parameters: {'classifier': 'RandomForest', 'n_estimators': 430, 'max_depth': 80.03993712732547}. Best is trial 22 with value: 0.7621951219512195.\u001b[0m\n",
      "\u001b[32m[I 2023-05-25 14:46:13,263]\u001b[0m Trial 63 finished with value: 0.7507970667941973 and parameters: {'classifier': 'RandomForest', 'n_estimators': 510, 'max_depth': 35.60213738331298}. Best is trial 22 with value: 0.7621951219512195.\u001b[0m\n",
      "\u001b[32m[I 2023-05-25 14:46:13,717]\u001b[0m Trial 64 finished with value: 0.7459269886816515 and parameters: {'classifier': 'RandomForest', 'n_estimators': 200, 'max_depth': 11.03004109349077}. Best is trial 22 with value: 0.7621951219512195.\u001b[0m\n",
      "\u001b[32m[I 2023-05-25 14:46:14,681]\u001b[0m Trial 65 finished with value: 0.744285031085605 and parameters: {'classifier': 'RandomForest', 'n_estimators': 430, 'max_depth': 25.969324777558807}. Best is trial 22 with value: 0.7621951219512195.\u001b[0m\n",
      "\u001b[32m[I 2023-05-25 14:46:15,949]\u001b[0m Trial 66 finished with value: 0.7540570699824646 and parameters: {'classifier': 'RandomForest', 'n_estimators': 600, 'max_depth': 17.337980240701697}. Best is trial 22 with value: 0.7621951219512195.\u001b[0m\n",
      "\u001b[32m[I 2023-05-25 14:46:16,763]\u001b[0m Trial 67 finished with value: 0.7491790212019768 and parameters: {'classifier': 'RandomForest', 'n_estimators': 400, 'max_depth': 12.24178612803842}. Best is trial 22 with value: 0.7621951219512195.\u001b[0m\n",
      "\u001b[32m[I 2023-05-25 14:46:18,423]\u001b[0m Trial 68 finished with value: 0.7524310537223019 and parameters: {'classifier': 'RandomForest', 'n_estimators': 870, 'max_depth': 14.561218723224496}. Best is trial 22 with value: 0.7621951219512195.\u001b[0m\n",
      "\u001b[32m[I 2023-05-25 14:46:21,466]\u001b[0m Trial 69 finished with value: 0.744300972421489 and parameters: {'classifier': 'RandomForest', 'n_estimators': 1550, 'max_depth': 10.05948304968996}. Best is trial 22 with value: 0.7621951219512195.\u001b[0m\n"
     ]
    },
    {
     "name": "stderr",
     "output_type": "stream",
     "text": [
      "\u001b[32m[I 2023-05-25 14:46:22,127]\u001b[0m Trial 70 finished with value: 0.7540650406504065 and parameters: {'classifier': 'RandomForest', 'n_estimators': 280, 'max_depth': 13.191558779530366}. Best is trial 22 with value: 0.7621951219512195.\u001b[0m\n",
      "\u001b[32m[I 2023-05-25 14:46:22,806]\u001b[0m Trial 71 finished with value: 0.7475370636059302 and parameters: {'classifier': 'RandomForest', 'n_estimators': 360, 'max_depth': 64.0909901004708}. Best is trial 22 with value: 0.7621951219512195.\u001b[0m\n",
      "\u001b[32m[I 2023-05-25 14:46:24,709]\u001b[0m Trial 72 finished with value: 0.7508130081300813 and parameters: {'classifier': 'RandomForest', 'n_estimators': 1010, 'max_depth': 10.540510430827014}. Best is trial 22 with value: 0.7621951219512195.\u001b[0m\n",
      "\u001b[32m[I 2023-05-25 14:46:26,099]\u001b[0m Trial 73 finished with value: 0.7507970667941973 and parameters: {'classifier': 'RandomForest', 'n_estimators': 700, 'max_depth': 11.877788800977768}. Best is trial 22 with value: 0.7621951219512195.\u001b[0m\n",
      "\u001b[32m[I 2023-05-25 14:46:27,091]\u001b[0m Trial 74 finished with value: 0.7459190180137095 and parameters: {'classifier': 'RandomForest', 'n_estimators': 520, 'max_depth': 10.74978447035315}. Best is trial 22 with value: 0.7621951219512195.\u001b[0m\n",
      "\u001b[32m[I 2023-05-25 14:46:27,153]\u001b[0m Trial 75 finished with value: 0.640068547744301 and parameters: {'classifier': 'SVC', 'svc_c': 3.1315985448781736}. Best is trial 22 with value: 0.7621951219512195.\u001b[0m\n",
      "\u001b[32m[I 2023-05-25 14:46:29,517]\u001b[0m Trial 76 finished with value: 0.7475530049418141 and parameters: {'classifier': 'RandomForest', 'n_estimators': 1280, 'max_depth': 48.158331801849094}. Best is trial 22 with value: 0.7621951219512195.\u001b[0m\n",
      "\u001b[32m[I 2023-05-25 14:46:30,708]\u001b[0m Trial 77 finished with value: 0.7459190180137095 and parameters: {'classifier': 'RandomForest', 'n_estimators': 630, 'max_depth': 11.85004777559986}. Best is trial 22 with value: 0.7621951219512195.\u001b[0m\n",
      "\u001b[32m[I 2023-05-25 14:46:33,335]\u001b[0m Trial 78 finished with value: 0.75242308305436 and parameters: {'classifier': 'RandomForest', 'n_estimators': 1410, 'max_depth': 13.686869753484967}. Best is trial 22 with value: 0.7621951219512195.\u001b[0m\n",
      "\u001b[32m[I 2023-05-25 14:46:35,345]\u001b[0m Trial 79 finished with value: 0.7491710505340348 and parameters: {'classifier': 'RandomForest', 'n_estimators': 1100, 'max_depth': 10.724680202882867}. Best is trial 22 with value: 0.7621951219512195.\u001b[0m\n",
      "\u001b[32m[I 2023-05-25 14:46:35,813]\u001b[0m Trial 80 finished with value: 0.7459190180137095 and parameters: {'classifier': 'RandomForest', 'n_estimators': 230, 'max_depth': 15.695953455593125}. Best is trial 22 with value: 0.7621951219512195.\u001b[0m\n",
      "\u001b[32m[I 2023-05-25 14:46:36,917]\u001b[0m Trial 81 finished with value: 0.7459269886816515 and parameters: {'classifier': 'RandomForest', 'n_estimators': 570, 'max_depth': 10.071453744162866}. Best is trial 22 with value: 0.7621951219512195.\u001b[0m\n",
      "\u001b[32m[I 2023-05-25 14:46:38,703]\u001b[0m Trial 82 finished with value: 0.7508050374621393 and parameters: {'classifier': 'RandomForest', 'n_estimators': 940, 'max_depth': 12.20195686478758}. Best is trial 22 with value: 0.7621951219512195.\u001b[0m\n",
      "\u001b[32m[I 2023-05-25 14:46:40,265]\u001b[0m Trial 83 finished with value: 0.7556671449067432 and parameters: {'classifier': 'RandomForest', 'n_estimators': 780, 'max_depth': 10.779314390667745}. Best is trial 22 with value: 0.7621951219512195.\u001b[0m\n",
      "\u001b[32m[I 2023-05-25 14:46:41,944]\u001b[0m Trial 84 finished with value: 0.7508050374621393 and parameters: {'classifier': 'RandomForest', 'n_estimators': 810, 'max_depth': 10.681302376055969}. Best is trial 22 with value: 0.7621951219512195.\u001b[0m\n",
      "\u001b[32m[I 2023-05-25 14:46:43,732]\u001b[0m Trial 85 finished with value: 0.7410409692332217 and parameters: {'classifier': 'RandomForest', 'n_estimators': 950, 'max_depth': 11.442114579554765}. Best is trial 22 with value: 0.7621951219512195.\u001b[0m\n",
      "\u001b[32m[I 2023-05-25 14:46:44,800]\u001b[0m Trial 86 finished with value: 0.7442690897497211 and parameters: {'classifier': 'RandomForest', 'n_estimators': 480, 'max_depth': 12.618723354327553}. Best is trial 22 with value: 0.7621951219512195.\u001b[0m\n",
      "\u001b[32m[I 2023-05-25 14:46:44,853]\u001b[0m Trial 87 finished with value: 0.640068547744301 and parameters: {'classifier': 'SVC', 'svc_c': 1434293.9815404762}. Best is trial 22 with value: 0.7621951219512195.\u001b[0m\n",
      "\u001b[32m[I 2023-05-25 14:46:45,638]\u001b[0m Trial 88 finished with value: 0.7540490993145226 and parameters: {'classifier': 'RandomForest', 'n_estimators': 370, 'max_depth': 13.390464192336268}. Best is trial 22 with value: 0.7621951219512195.\u001b[0m\n",
      "\u001b[32m[I 2023-05-25 14:46:47,008]\u001b[0m Trial 89 finished with value: 0.7459190180137095 and parameters: {'classifier': 'RandomForest', 'n_estimators': 660, 'max_depth': 10.954743906152698}. Best is trial 22 with value: 0.7621951219512195.\u001b[0m\n",
      "\u001b[32m[I 2023-05-25 14:46:49,173]\u001b[0m Trial 90 finished with value: 0.7540570699824646 and parameters: {'classifier': 'RandomForest', 'n_estimators': 1140, 'max_depth': 11.965636252371898}. Best is trial 22 with value: 0.7621951219512195.\u001b[0m\n",
      "\u001b[32m[I 2023-05-25 14:46:50,695]\u001b[0m Trial 91 finished with value: 0.7540650406504065 and parameters: {'classifier': 'RandomForest', 'n_estimators': 740, 'max_depth': 10.003692312985972}. Best is trial 22 with value: 0.7621951219512195.\u001b[0m\n",
      "\u001b[32m[I 2023-05-25 14:46:51,757]\u001b[0m Trial 92 finished with value: 0.75242308305436 and parameters: {'classifier': 'RandomForest', 'n_estimators': 530, 'max_depth': 10.645262327548275}. Best is trial 22 with value: 0.7621951219512195.\u001b[0m\n",
      "\u001b[32m[I 2023-05-25 14:46:53,298]\u001b[0m Trial 93 finished with value: 0.7508050374621393 and parameters: {'classifier': 'RandomForest', 'n_estimators': 810, 'max_depth': 11.397389384146221}. Best is trial 22 with value: 0.7621951219512195.\u001b[0m\n",
      "\u001b[32m[I 2023-05-25 14:46:54,231]\u001b[0m Trial 94 finished with value: 0.7459190180137095 and parameters: {'classifier': 'RandomForest', 'n_estimators': 460, 'max_depth': 10.46114341225413}. Best is trial 22 with value: 0.7621951219512195.\u001b[0m\n",
      "\u001b[32m[I 2023-05-25 14:46:54,808]\u001b[0m Trial 95 finished with value: 0.7540650406504065 and parameters: {'classifier': 'RandomForest', 'n_estimators': 290, 'max_depth': 11.35998254817536}. Best is trial 22 with value: 0.7621951219512195.\u001b[0m\n",
      "\u001b[32m[I 2023-05-25 14:46:56,680]\u001b[0m Trial 96 finished with value: 0.7508209787980232 and parameters: {'classifier': 'RandomForest', 'n_estimators': 870, 'max_depth': 13.06012691368437}. Best is trial 22 with value: 0.7621951219512195.\u001b[0m\n",
      "\u001b[32m[I 2023-05-25 14:46:57,812]\u001b[0m Trial 97 finished with value: 0.7507970667941973 and parameters: {'classifier': 'RandomForest', 'n_estimators': 550, 'max_depth': 12.267888890434547}. Best is trial 22 with value: 0.7621951219512195.\u001b[0m\n",
      "\u001b[32m[I 2023-05-25 14:46:59,131]\u001b[0m Trial 98 finished with value: 0.7508050374621393 and parameters: {'classifier': 'RandomForest', 'n_estimators': 610, 'max_depth': 10.65479928392318}. Best is trial 22 with value: 0.7621951219512195.\u001b[0m\n",
      "\u001b[32m[I 2023-05-25 14:46:59,189]\u001b[0m Trial 99 finished with value: 0.640068547744301 and parameters: {'classifier': 'SVC', 'svc_c': 0.5264695373488735}. Best is trial 22 with value: 0.7621951219512195.\u001b[0m\n"
     ]
    },
    {
     "name": "stdout",
     "output_type": "stream",
     "text": [
      "Accuracy: 0.7621951219512195\n",
      "Best hyperparameters: {'classifier': 'RandomForest', 'n_estimators': 200, 'max_depth': 10.205123237257816}\n"
     ]
    }
   ],
   "source": [
    "study = optuna.create_study(direction = 'maximize')\n",
    "study.optimize(objective, n_trials = 100)\n",
    "\n",
    "trial = study.best_trial\n",
    "\n",
    "print(\"Accuracy: {}\".format(trial.value))\n",
    "print(\"Best hyperparameters: {}\".format(trial.params))"
   ]
  },
  {
   "cell_type": "code",
   "execution_count": 83,
   "metadata": {},
   "outputs": [
    {
     "data": {
      "text/plain": [
       "<hyperopt.base.Trials at 0x1e143d1f700>"
      ]
     },
     "execution_count": 83,
     "metadata": {},
     "output_type": "execute_result"
    }
   ],
   "source": [
    "trials"
   ]
  },
  {
   "cell_type": "code",
   "execution_count": 85,
   "metadata": {},
   "outputs": [
    {
     "data": {
      "text/plain": [
       "{'classifier': 'RandomForest',\n",
       " 'n_estimators': 200,\n",
       " 'max_depth': 10.205123237257816}"
      ]
     },
     "execution_count": 85,
     "metadata": {},
     "output_type": "execute_result"
    }
   ],
   "source": [
    "study.best_params"
   ]
  },
  {
   "cell_type": "code",
   "execution_count": 86,
   "metadata": {},
   "outputs": [
    {
     "data": {
      "text/plain": [
       "RandomForestClassifier(max_depth=30, n_estimators=330)"
      ]
     },
     "execution_count": 86,
     "metadata": {},
     "output_type": "execute_result"
    }
   ],
   "source": [
    "rf = RandomForestClassifier(n_estimators = 330, max_depth = 30)\n",
    "rf.fit(X_train, y_train)"
   ]
  },
  {
   "cell_type": "code",
   "execution_count": 87,
   "metadata": {},
   "outputs": [
    {
     "name": "stdout",
     "output_type": "stream",
     "text": [
      "[[94 13]\n",
      " [17 30]]\n",
      "0.8051948051948052\n",
      "              precision    recall  f1-score   support\n",
      "\n",
      "           0       0.85      0.88      0.86       107\n",
      "           1       0.70      0.64      0.67        47\n",
      "\n",
      "    accuracy                           0.81       154\n",
      "   macro avg       0.77      0.76      0.76       154\n",
      "weighted avg       0.80      0.81      0.80       154\n",
      "\n"
     ]
    }
   ],
   "source": [
    "y_pred = rf.predict(X_test)\n",
    "print(confusion_matrix(y_test, y_pred))\n",
    "print(accuracy_score(y_test, y_pred))\n",
    "print(classification_report(y_test, y_pred))"
   ]
  },
  {
   "cell_type": "code",
   "execution_count": null,
   "metadata": {},
   "outputs": [],
   "source": []
  },
  {
   "cell_type": "code",
   "execution_count": null,
   "metadata": {},
   "outputs": [],
   "source": []
  }
 ],
 "metadata": {
  "kernelspec": {
   "display_name": "Python 3",
   "language": "python",
   "name": "python3"
  },
  "language_info": {
   "codemirror_mode": {
    "name": "ipython",
    "version": 3
   },
   "file_extension": ".py",
   "mimetype": "text/x-python",
   "name": "python",
   "nbconvert_exporter": "python",
   "pygments_lexer": "ipython3",
   "version": "3.8.5"
  }
 },
 "nbformat": 4,
 "nbformat_minor": 4
}
